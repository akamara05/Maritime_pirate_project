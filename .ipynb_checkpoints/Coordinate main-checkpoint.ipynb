{
 "cells": [
  {
   "cell_type": "markdown",
   "metadata": {},
   "source": [
    "https://stackoverflow.com/questions/59736682/find-nearest-location-coordinates-in-land-using-python"
   ]
  },
  {
   "cell_type": "code",
   "execution_count": 1,
   "metadata": {},
   "outputs": [],
   "source": [
    "import numpy as np\n",
    "import pandas as pd\n",
    "#import geopandas as gp\n",
    "import geopy\n",
    "from geopy.geocoders import Nominatim\n",
    "import time"
   ]
  },
  {
   "cell_type": "code",
   "execution_count": 2,
   "metadata": {},
   "outputs": [],
   "source": [
    "df = pd.read_csv('./datasets/Anti-Shipping_Activity_Messages.csv')\n",
    "df.dropna(inplace = True)"
   ]
  },
  {
   "cell_type": "code",
   "execution_count": 3,
   "metadata": {},
   "outputs": [],
   "source": [
    "df['Y'] = [str(x) for x in df['Y']]\n",
    "df['X'] = [str(x) for x in df['X']]"
   ]
  },
  {
   "cell_type": "code",
   "execution_count": 4,
   "metadata": {},
   "outputs": [],
   "source": [
    "df['coords'] = df['Y'] + ',' + df['X']"
   ]
  },
  {
   "cell_type": "code",
   "execution_count": 5,
   "metadata": {},
   "outputs": [],
   "source": [
    "gloc = Nominatim(user_agent = 'Anything')"
   ]
  },
  {
   "cell_type": "code",
   "execution_count": 6,
   "metadata": {},
   "outputs": [],
   "source": [
    "def closest_country(c):\n",
    "    time.sleep(1)\n",
    "    try:\n",
    "        c = gloc.reverse(c, language = 'en')\n",
    "        return c.raw['address']['country']\n",
    "    except:\n",
    "        return 'International Waters'\n",
    "\n",
    "#https://www.geeksforgeeks.org/get-the-city-state-and-country-names-from-latitude-and-longitude-using-python/"
   ]
  },
  {
   "cell_type": "code",
   "execution_count": 7,
   "metadata": {},
   "outputs": [],
   "source": [
    "# df_locations_1_250 = df['coords'][:250].apply(lambda x: closest_country(x))\n",
    "# df_locations_250_500 = df['coords'][250:500].apply(lambda x: closest_country(x))\n",
    "# df_locations_500_750 = df['coords'][500:750].apply(lambda x: closest_country(x))\n",
    "# df_locations_750_1000 = df['coords'][750:1000].apply(lambda x: closest_country(x))\n",
    "# df_locations_1000_1500 = df['coords'][1000:1500].apply(lambda x: closest_country(x))\n",
    "# df_locations_1500_2500 = df['coords'][1500:2500].apply(lambda x: closest_country(x))\n",
    "# df_locations_2500_end = df['coords'][2500:].apply(lambda x: closest_country(x))\n",
    "# df.to_csv('./datasets/esri_w_country_columns')"
   ]
  },
  {
   "cell_type": "code",
   "execution_count": 8,
   "metadata": {},
   "outputs": [],
   "source": [
    "df = pd.read_csv('./datasets/esri_w_country_columns', index_col=[0])"
   ]
  },
  {
   "cell_type": "code",
   "execution_count": 9,
   "metadata": {},
   "outputs": [],
   "source": [
    "# poverty = pd.read_csv('./sdg_piracy_sheets/csv_data/t111.csv', index_col =[0]) \n",
    "# land_rights = pd.read_csv('./sdg_piracy_sheets/csv_data/t142.csv', index_col =[0]) \n",
    "# education = pd.read_csv('./sdg_piracy_sheets/csv_data/t411.csv', index_col =[0]) \n",
    "# overfishing = pd.read_csv('./sdg_piracy_sheets/csv_data/t1441.csv', index_col =[0]) \n",
    "# sea_law = pd.read_csv('./sdg_piracy_sheets/csv_data/t14c1.csv', index_col =[0]) "
   ]
  },
  {
   "cell_type": "code",
   "execution_count": 10,
   "metadata": {},
   "outputs": [],
   "source": [
    "# land_rights.SeriesDescription.unique()"
   ]
  },
  {
   "cell_type": "code",
   "execution_count": 11,
   "metadata": {},
   "outputs": [],
   "source": [
    "# Value based on year/country (keep Series Description)\n",
    "# education.GeoAreaName.value_counts()"
   ]
  },
  {
   "cell_type": "code",
   "execution_count": 12,
   "metadata": {},
   "outputs": [],
   "source": [
    "# overfishing.Value"
   ]
  },
  {
   "cell_type": "code",
   "execution_count": 13,
   "metadata": {},
   "outputs": [],
   "source": [
    "# sea_law.SeriesDescription.unique()"
   ]
  },
  {
   "cell_type": "code",
   "execution_count": 14,
   "metadata": {},
   "outputs": [],
   "source": [
    "# sea_law.shape"
   ]
  },
  {
   "cell_type": "code",
   "execution_count": 15,
   "metadata": {},
   "outputs": [],
   "source": [
    "#df.drop(columns = ['Unnamed: 0'], inplace = True)"
   ]
  },
  {
   "cell_type": "code",
   "execution_count": 16,
   "metadata": {},
   "outputs": [],
   "source": [
    "#Breaking into month, year, day and time.\n",
    "df['year'] = [x[0:4] for x in df.dateofocc]\n",
    "df['month'] = [x[5:7] for x in df.dateofocc]\n",
    "df['day'] = [x[8:10] for x in df.dateofocc]\n",
    "df['time'] = [x[11:] for x in df.dateofocc]"
   ]
  },
  {
   "cell_type": "code",
   "execution_count": 17,
   "metadata": {},
   "outputs": [
    {
     "data": {
      "text/plain": [
       "X                  7792\n",
       "Y                  7792\n",
       "OBJECTID           7792\n",
       "reference          7792\n",
       "dateofocc          7792\n",
       "subreg             7792\n",
       "hostility_d        7792\n",
       "victim_d           7792\n",
       "description        7792\n",
       "hostilitytype_l    7792\n",
       "victim_l           7792\n",
       "navarea            7792\n",
       "coords             7792\n",
       "country            7792\n",
       "year               7792\n",
       "month              7792\n",
       "day                7792\n",
       "time               7792\n",
       "dtype: int64"
      ]
     },
     "execution_count": 17,
     "metadata": {},
     "output_type": "execute_result"
    }
   ],
   "source": [
    "df[df['time'] == '00:00:00+00'].count()\n",
    "#most rows are missing 'time'"
   ]
  },
  {
   "cell_type": "code",
   "execution_count": 18,
   "metadata": {},
   "outputs": [],
   "source": [
    "#Dropping time column\n",
    "df.drop(columns = 'time', inplace = True)"
   ]
  },
  {
   "cell_type": "code",
   "execution_count": 19,
   "metadata": {},
   "outputs": [],
   "source": [
    "#Dropping original date of occurence column\n",
    "df.drop(columns = 'dateofocc', inplace = True)"
   ]
  },
  {
   "cell_type": "code",
   "execution_count": 20,
   "metadata": {},
   "outputs": [],
   "source": [
    "#Dropping 'OBJECTID'\n",
    "df.drop(columns = 'OBJECTID', axis = 1, inplace = True)"
   ]
  },
  {
   "cell_type": "code",
   "execution_count": 21,
   "metadata": {},
   "outputs": [],
   "source": [
    "#Lowercase all text\n",
    "for i in df.columns:\n",
    "    if df[i].dtypes == 'O':\n",
    "        df[i] = df[i].str.lower()"
   ]
  },
  {
   "cell_type": "code",
   "execution_count": 22,
   "metadata": {},
   "outputs": [
    {
     "data": {
      "text/plain": [
       "1.0    6971\n",
       "3.0     537\n",
       "4.0     163\n",
       "6.0     124\n",
       "2.0      47\n",
       "5.0      40\n",
       "9.0       6\n",
       "7.0       1\n",
       "Name: hostilitytype_l, dtype: int64"
      ]
     },
     "execution_count": 22,
     "metadata": {},
     "output_type": "execute_result"
    }
   ],
   "source": [
    "df.hostilitytype_l.value_counts()"
   ]
  },
  {
   "cell_type": "code",
   "execution_count": 23,
   "metadata": {},
   "outputs": [],
   "source": [
    "host_lst = ['pirate_assaults', \n",
    "            'navel_engagement', \n",
    "            'suspicious_approach', \n",
    "            'kidnapping', \n",
    "            'unknown', \n",
    "            'other', \n",
    "            'hijacking', \n",
    "            'no entries', \n",
    "            'attempted_boarding']\n",
    "\n",
    "df.hostilitytype_l = [host_lst[int(x) - 1] for x in df.hostilitytype_l]"
   ]
  },
  {
   "cell_type": "code",
   "execution_count": 24,
   "metadata": {},
   "outputs": [],
   "source": [
    "victim_lst = ['anchored_vessel', \n",
    "            'barge', \n",
    "            'cargo_ship', \n",
    "            'fishing_vessel', \n",
    "            'merchant_vessel', \n",
    "            'offshore_vessel', \n",
    "            'passenger_ship', \n",
    "            'sailing_vessel', \n",
    "            'tanker',\n",
    "            'tugboat',\n",
    "            'vessel',\n",
    "            'unknown',\n",
    "            'other']\n",
    "\n",
    "df.victim_l = [victim_lst[int(x) - 1] for x in df.victim_l]"
   ]
  },
  {
   "cell_type": "code",
   "execution_count": 25,
   "metadata": {},
   "outputs": [],
   "source": [
    "#Dummy all categorical columns\n",
    "to_dummy = ['subreg', 'hostilitytype_l', 'victim_l', 'navarea', 'month']\n",
    "\n",
    "for i in to_dummy:\n",
    "    df = pd.concat([df, pd.get_dummies(df[i], prefix = i)], axis=1)\n",
    "#df.drop(columns = to_dummy, axis = 1)"
   ]
  },
  {
   "cell_type": "code",
   "execution_count": 26,
   "metadata": {},
   "outputs": [],
   "source": [
    "#ADD TO CLEANING\n",
    "\n",
    "success_dict = {\n",
    "    'pirate_assaults':1,      \n",
    "    'suspicious_approach':0,  \n",
    "    'kidnapping':1,\n",
    "    'other':0,\n",
    "    'navel_engagement':0, \n",
    "    'unknown':0,\n",
    "    'attempted_boarding':0,\n",
    "    'hijacking':1\n",
    "}\n",
    "\n",
    "\n",
    "\n",
    "df['pirate_success'] = df.hostilitytype_l.map(success_dict)"
   ]
  },
  {
   "cell_type": "code",
   "execution_count": 27,
   "metadata": {},
   "outputs": [],
   "source": [
    "df['year'] = df['year'].astype(int)"
   ]
  },
  {
   "cell_type": "code",
   "execution_count": 28,
   "metadata": {},
   "outputs": [],
   "source": [
    "#Incorporate only observations from 2010 on.\n",
    "df = df[df['year'] >= 2010]"
   ]
  },
  {
   "cell_type": "code",
   "execution_count": 29,
   "metadata": {},
   "outputs": [],
   "source": [
    "df.drop(columns = ['reference', 'hostility_d', 'victim_d', 'description'], inplace = True)"
   ]
  },
  {
   "cell_type": "code",
   "execution_count": 30,
   "metadata": {},
   "outputs": [
    {
     "data": {
      "text/plain": [
       "(3278, 100)"
      ]
     },
     "execution_count": 30,
     "metadata": {},
     "output_type": "execute_result"
    }
   ],
   "source": [
    "df.shape"
   ]
  },
  {
   "cell_type": "code",
   "execution_count": 31,
   "metadata": {},
   "outputs": [],
   "source": [
    "poverty = pd.read_csv('./datasets/poverty.csv', index_col=[0])"
   ]
  },
  {
   "cell_type": "code",
   "execution_count": 32,
   "metadata": {},
   "outputs": [],
   "source": [
    "#BRING TO BOTTOM OF PAGE\n",
    "\n",
    "# df.to_csv('./datasets/cleaned_pirate_activity_eda.csv')\n",
    "# df = pd.read_csv('./datasets/cleaned_pirate_activity_eda.csv', index_col=0)\n",
    "# df.head()"
   ]
  },
  {
   "cell_type": "code",
   "execution_count": 33,
   "metadata": {},
   "outputs": [],
   "source": [
    "countries = ['The Bahamas', 'Indonesia','International Waters', 'Eritrea', 'India', 'Brazil',\n",
    " 'Somalia', 'Ecuador', 'Philippines', 'Malta', 'China', 'Cameroon', 'Sri Lanka','Nicaragua',\n",
    " 'Senegal', 'Bangladesh', 'Vietnam', 'Malaysia', 'Mozambique', 'Guyana', 'Algeria', 'Tanzania',\n",
    " 'Lebanon', 'Visayas', 'Colombia', 'Nigeria', 'Egypt', 'Thailand', 'Russia', 'Guinea',\n",
    " 'Morocco', \"Côte d'Ivoire\", 'Portugal', 'Japan', 'Myanmar', 'Mindanao',\n",
    " 'Dominican Republic', 'Iran', 'Venezuela', 'Ghana', 'Angola', 'Sierra Leone', \n",
    " 'Democratic Republic of the Congo', 'Madagascar', 'Turkey', 'Peru', 'Italy', 'Oman', 'Djibouti',\n",
    " 'North Korea', 'Greece', 'Yemen', 'Taiwan', 'Comoros', 'Papua New Guinea', 'Jamaica', 'Saudi Arabia',\n",
    " 'Netherlands', 'Panama', 'Singapore', 'Kenya', 'France', 'Pakistan', 'United States', 'Gabon',\n",
    " 'Congo-Brazzaville', 'Belgium', 'Brunei', 'Cyprus', 'Haiti', 'Liberia', 'Belize', 'Qatar', 'Solomon Islands',\n",
    " 'Equatorial Guinea', 'Guatemala', 'Fiji', 'South Africa', 'Tunisia', 'Mauritania', 'United Arab Emirates',\n",
    " 'Germany', 'Mexico', 'Montenegro', 'Togo', 'Honduras', 'United Kingdom', 'Benin', 'Trinidad and Tobago',\n",
    " 'Bulgaria', 'Georgia', 'Cuba', 'Iraq', 'Suriname', 'Australia', 'El Salvador', 'Romania', 'Saint Lucia',\n",
    " 'Uruguay', 'British Virgin Islands', 'Saint Vincent and the Grenadines', 'Sudan', 'Dominica',\n",
    " 'Spain', 'Costa Rica', 'Antigua and Barbuda', 'Grenada', 'South Korea', 'Cape Verde', 'Seychelles',\n",
    " 'Libya', 'Cayman Islands', 'Saint Kitts and Nevis']\n",
    "\n",
    "countries = [x.lower() for x in countries]"
   ]
  },
  {
   "cell_type": "code",
   "execution_count": 34,
   "metadata": {},
   "outputs": [],
   "source": [
    "lis = [44, 360, 1, 232, 356, 76, 706, 218, 608, 470, 156, 120, 144, 558, 686, 50, 704, 458, 508, 328, \n",
    "          12, 834, 422, 608, 170, 566, 818, 764, 643, 324, 504, 384, 620, 392, 104, 608, 214, 364, 862, \n",
    "          288, 24, 694, 180, 450, 792, 604, 380, 512, 262, 408, 300, 887, 156, 174, 598, 388, 682, 528,\n",
    "         591, 702, 404, 250, 586, 840, 266, 178, 56, 96, 196, 332, 430, 84, 634, 90, 226, 320, 242, 710, \n",
    "         788, 478, 784, 276, 484, 499, 768, 340, 826, 204, 780, 100, 268, 192, 368, 740, 36, 222, 642, \n",
    "         662, 858, 92, 670, 729, 212, 724, 188, 28, 308, 410, 132, 690, 434, 136, 659]"
   ]
  },
  {
   "cell_type": "code",
   "execution_count": 35,
   "metadata": {},
   "outputs": [],
   "source": [
    "dic = {countries[i]: lis[i] for i in range(len(countries))}"
   ]
  },
  {
   "cell_type": "code",
   "execution_count": 36,
   "metadata": {},
   "outputs": [],
   "source": [
    "df['country_code'] = df['country'].map(dic)"
   ]
  },
  {
   "cell_type": "code",
   "execution_count": 37,
   "metadata": {},
   "outputs": [],
   "source": [
    "poverty.rename(columns = {'GeoAreaCode':'country_code', 'TimePeriod': 'year'}, inplace = True)"
   ]
  },
  {
   "cell_type": "code",
   "execution_count": 38,
   "metadata": {},
   "outputs": [],
   "source": [
    "poverty['country_code'] = poverty['country_code'].astype(int)"
   ]
  },
  {
   "cell_type": "code",
   "execution_count": 39,
   "metadata": {},
   "outputs": [],
   "source": [
    "df['join_key'] = list(zip(df.country_code, df.year))\n",
    "poverty['join_key'] = list(zip(poverty.country_code, poverty.year))"
   ]
  },
  {
   "cell_type": "code",
   "execution_count": 40,
   "metadata": {},
   "outputs": [],
   "source": [
    "poverty =poverty.drop(['year', 'Indicator', 'country_code', 'GeoAreaName'], axis=1)"
   ]
  },
  {
   "cell_type": "code",
   "execution_count": 41,
   "metadata": {
    "scrolled": true
   },
   "outputs": [],
   "source": [
    "df = df.merge(poverty, on='join_key', how='left')"
   ]
  },
  {
   "cell_type": "code",
   "execution_count": 42,
   "metadata": {},
   "outputs": [
    {
     "data": {
      "text/plain": [
       "1    3049\n",
       "0     229\n",
       "Name: pirate_success, dtype: int64"
      ]
     },
     "execution_count": 42,
     "metadata": {},
     "output_type": "execute_result"
    }
   ],
   "source": [
    "df.pirate_success.value_counts()"
   ]
  },
  {
   "cell_type": "code",
   "execution_count": 45,
   "metadata": {},
   "outputs": [],
   "source": [
    "df.to_csv('./datasets/modeling.csv')"
   ]
  },
  {
   "cell_type": "code",
   "execution_count": 44,
   "metadata": {},
   "outputs": [
    {
     "name": "stdout",
     "output_type": "stream",
     "text": [
      "X\n",
      "Y\n",
      "subreg\n",
      "hostilitytype_l\n",
      "victim_l\n",
      "navarea\n",
      "coords\n",
      "country\n",
      "year\n",
      "month\n",
      "day\n",
      "subreg_11\n",
      "subreg_12\n",
      "subreg_13\n",
      "subreg_18\n",
      "subreg_21\n",
      "subreg_22\n",
      "subreg_23\n",
      "subreg_24\n",
      "subreg_25\n",
      "subreg_26\n",
      "subreg_27\n",
      "subreg_28\n",
      "subreg_36\n",
      "subreg_37\n",
      "subreg_44\n",
      "subreg_51\n",
      "subreg_52\n",
      "subreg_53\n",
      "subreg_54\n",
      "subreg_55\n",
      "subreg_56\n",
      "subreg_57\n",
      "subreg_61\n",
      "subreg_62\n",
      "subreg_63\n",
      "subreg_71\n",
      "subreg_72\n",
      "subreg_73\n",
      "subreg_74\n",
      "subreg_81\n",
      "subreg_82\n",
      "subreg_83\n",
      "subreg_91\n",
      "subreg_92\n",
      "subreg_93\n",
      "subreg_94\n",
      "subreg_95\n",
      "subreg_96\n",
      "subreg_97\n",
      "hostilitytype_l_attempted_boarding\n",
      "hostilitytype_l_hijacking\n",
      "hostilitytype_l_kidnapping\n",
      "hostilitytype_l_navel_engagement\n",
      "hostilitytype_l_other\n",
      "hostilitytype_l_pirate_assaults\n",
      "hostilitytype_l_suspicious_approach\n",
      "hostilitytype_l_unknown\n",
      "victim_l_anchored_vessel\n",
      "victim_l_barge\n",
      "victim_l_cargo_ship\n",
      "victim_l_fishing_vessel\n",
      "victim_l_merchant_vessel\n",
      "victim_l_offshore_vessel\n",
      "victim_l_other\n",
      "victim_l_passenger_ship\n",
      "victim_l_sailing_vessel\n",
      "victim_l_tanker\n",
      "victim_l_tugboat\n",
      "victim_l_unknown\n",
      "victim_l_vessel\n",
      "navarea_i\n",
      "navarea_ii\n",
      "navarea_iii\n",
      "navarea_iv\n",
      "navarea_ix\n",
      "navarea_v\n",
      "navarea_vi\n",
      "navarea_vii\n",
      "navarea_viii\n",
      "navarea_x\n",
      "navarea_xi\n",
      "navarea_xii\n",
      "navarea_xiii\n",
      "navarea_xiv\n",
      "navarea_xv\n",
      "navarea_xvi\n",
      "month_01\n",
      "month_02\n",
      "month_03\n",
      "month_04\n",
      "month_05\n",
      "month_06\n",
      "month_07\n",
      "month_08\n",
      "month_09\n",
      "month_10\n",
      "month_11\n",
      "month_12\n",
      "pirate_success\n",
      "country_code\n",
      "join_key\n",
      "poverty_percentage\n"
     ]
    }
   ],
   "source": [
    "for i in df.columns:\n",
    "    print(i)\n"
   ]
  },
  {
   "cell_type": "code",
   "execution_count": null,
   "metadata": {},
   "outputs": [],
   "source": []
  }
 ],
 "metadata": {
  "kernelspec": {
   "display_name": "Python 3 (ipykernel)",
   "language": "python",
   "name": "python3"
  },
  "language_info": {
   "codemirror_mode": {
    "name": "ipython",
    "version": 3
   },
   "file_extension": ".py",
   "mimetype": "text/x-python",
   "name": "python",
   "nbconvert_exporter": "python",
   "pygments_lexer": "ipython3",
   "version": "3.8.10"
  }
 },
 "nbformat": 4,
 "nbformat_minor": 4
}
