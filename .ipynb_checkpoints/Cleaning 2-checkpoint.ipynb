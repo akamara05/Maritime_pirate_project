{
 "cells": [
  {
   "cell_type": "code",
   "execution_count": 5,
   "metadata": {},
   "outputs": [],
   "source": [
    "import numpy as np\n",
    "import pandas as pd"
   ]
  },
  {
   "cell_type": "code",
   "execution_count": 6,
   "metadata": {},
   "outputs": [],
   "source": [
    "t111 = pd.read_csv('./sdg_piracy_sheets/csv_data/t111.csv', index_col=[0])\n",
    "t411 = pd.read_csv('./sdg_piracy_sheets/csv_data/t411.csv', index_col=[0])\n",
    "t14c1 = pd.read_csv('./sdg_piracy_sheets/csv_data/t14c1.csv', index_col=[0])"
   ]
  },
  {
   "cell_type": "code",
   "execution_count": 7,
   "metadata": {},
   "outputs": [],
   "source": [
    "drop_lis = ['Goal', 'Target', 'SeriesCode', 'SeriesDescription', 'FootNote']\n",
    "t111.drop(drop_lis, axis=1, inplace=True)\n",
    "t411.drop(drop_lis, axis=1, inplace=True)\n",
    "t14c1.drop(drop_lis, axis=1, inplace=True)"
   ]
  },
  {
   "cell_type": "code",
   "execution_count": 8,
   "metadata": {},
   "outputs": [],
   "source": [
    "poverty= t111[t111['Age']!='15-24']\n",
    "poverty= poverty[poverty['Age']!= '15+']\n",
    "poverty= poverty[poverty['Age']!= '25+']\n",
    "poverty= poverty[poverty['Sex']!= 'MALE']\n",
    "poverty= poverty[poverty['Age']!= 'FEMALE']"
   ]
  },
  {
   "cell_type": "code",
   "execution_count": 9,
   "metadata": {},
   "outputs": [
    {
     "data": {
      "text/plain": [
       "Indicator            0\n",
       "GeoAreaCode          0\n",
       "GeoAreaName          0\n",
       "TimePeriod           0\n",
       "Value                0\n",
       "Time_Detail          0\n",
       "Source               0\n",
       "Age               2084\n",
       "Nature               0\n",
       "Reporting Type       0\n",
       "Sex               2084\n",
       "Units                0\n",
       "dtype: int64"
      ]
     },
     "execution_count": 9,
     "metadata": {},
     "output_type": "execute_result"
    }
   ],
   "source": [
    "poverty.isnull().sum()"
   ]
  },
  {
   "cell_type": "code",
   "execution_count": 10,
   "metadata": {},
   "outputs": [],
   "source": [
    "drop_lis = ['Age', 'Sex', 'Time_Detail', 'Source', 'Nature', 'Reporting Type', 'Units']\n",
    "poverty.drop(drop_lis, axis=1, inplace=True)"
   ]
  },
  {
   "cell_type": "code",
   "execution_count": 11,
   "metadata": {},
   "outputs": [],
   "source": [
    "poverty.rename(columns={'Value':'poverty_percentage'}, inplace=True)"
   ]
  },
  {
   "cell_type": "code",
   "execution_count": 12,
   "metadata": {},
   "outputs": [
    {
     "data": {
      "text/plain": [
       "(2084, 5)"
      ]
     },
     "execution_count": 12,
     "metadata": {},
     "output_type": "execute_result"
    }
   ],
   "source": [
    "poverty.shape"
   ]
  },
  {
   "cell_type": "code",
   "execution_count": 13,
   "metadata": {},
   "outputs": [],
   "source": [
    "#https://stackoverflow.com/questions/65817843/how-to-create-new-rows-with-missing-years-and-populate-them-with-current-rows\n",
    "poverty = (poverty.set_index('TimePeriod').groupby('GeoAreaCode')\n",
    "   .apply(lambda x: x.reindex(np.arange(2000, 2022)).ffill())\n",
    "   .reset_index('GeoAreaCode',drop=True)\n",
    "   .reset_index())\n",
    "poverty.dropna(inplace=True)"
   ]
  },
  {
   "cell_type": "code",
   "execution_count": 14,
   "metadata": {},
   "outputs": [],
   "source": [
    "poverty = poverty[poverty['TimePeriod'] > 2009]"
   ]
  },
  {
   "cell_type": "code",
   "execution_count": 15,
   "metadata": {},
   "outputs": [],
   "source": [
    "poverty.to_csv('./datasets/poverty.csv')"
   ]
  },
  {
   "cell_type": "code",
   "execution_count": 16,
   "metadata": {},
   "outputs": [],
   "source": [
    "t411= t411[t411['Sex']!= 'MALE']\n",
    "t411= t411[t411['Sex']!= 'FEMALE']\n",
    "t411= t411[t411['Education level']== 'LOWSEC']\n",
    "t411m = t411[t411['Type of skill']== 'SKILL_MATH']\n",
    "t411r = t411[t411['Type of skill']== 'SKILL_READ']"
   ]
  },
  {
   "cell_type": "code",
   "execution_count": 17,
   "metadata": {},
   "outputs": [],
   "source": [
    "def year_filler(df, low=2000, high=2022):\n",
    "    df = (df.set_index('TimePeriod').groupby('GeoAreaCode').apply(lambda x: x.reindex(np.arange(low, high)).ffill()).reset_index('GeoAreaCode',drop=True).reset_index())\n",
    "    df.dropna(inplace=True)\n",
    "    return df"
   ]
  },
  {
   "cell_type": "code",
   "execution_count": 18,
   "metadata": {},
   "outputs": [],
   "source": [
    "t411m = year_filler(t411m)\n",
    "t411r = year_filler(t411r)"
   ]
  },
  {
   "cell_type": "code",
   "execution_count": 19,
   "metadata": {},
   "outputs": [
    {
     "name": "stderr",
     "output_type": "stream",
     "text": [
      "C:\\Users\\Matt\\anaconda3\\lib\\site-packages\\pandas\\core\\frame.py:5034: SettingWithCopyWarning: \n",
      "A value is trying to be set on a copy of a slice from a DataFrame\n",
      "\n",
      "See the caveats in the documentation: https://pandas.pydata.org/pandas-docs/stable/user_guide/indexing.html#returning-a-view-versus-a-copy\n",
      "  return super().rename(\n"
     ]
    }
   ],
   "source": [
    "t411m['join_key'] = list(zip(t411m['GeoAreaCode'], t411m['TimePeriod']))\n",
    "math = t411m[['join_key', 'Value']]\n",
    "\n",
    "t411r['join_key'] = list(zip(t411r['GeoAreaCode'], t411r['TimePeriod']))\n",
    "reading = t411r[['join_key', 'Value']]\n",
    "\n",
    "math.rename(columns={'Value': 'math_benchmark_percent'}, inplace=True)\n",
    "reading.rename(columns={'Value': 'reading_benchmark_percent'}, inplace=True)"
   ]
  },
  {
   "cell_type": "code",
   "execution_count": 20,
   "metadata": {},
   "outputs": [],
   "source": [
    "math.to_csv('./datasets/math.csv')\n",
    "reading.to_csv('./datasets/reading.csv')"
   ]
  },
  {
   "cell_type": "code",
   "execution_count": 23,
   "metadata": {},
   "outputs": [],
   "source": [
    "sea_law_adoption = t14c1[['GeoAreaCode', 'Value']]\n",
    "sea_law_adoption.rename(columns={'Value': 'sea_law_adoption', 'GeoAreaCode': 'country_code'}, inplace=True)"
   ]
  },
  {
   "cell_type": "code",
   "execution_count": 24,
   "metadata": {},
   "outputs": [],
   "source": [
    "sea_law_adoption.to_csv('./datasets/sea_law_adoption.csv')"
   ]
  },
  {
   "cell_type": "code",
   "execution_count": null,
   "metadata": {},
   "outputs": [],
   "source": []
  }
 ],
 "metadata": {
  "kernelspec": {
   "display_name": "Python 3 (ipykernel)",
   "language": "python",
   "name": "python3"
  },
  "language_info": {
   "codemirror_mode": {
    "name": "ipython",
    "version": 3
   },
   "file_extension": ".py",
   "mimetype": "text/x-python",
   "name": "python",
   "nbconvert_exporter": "python",
   "pygments_lexer": "ipython3",
   "version": "3.8.10"
  }
 },
 "nbformat": 4,
 "nbformat_minor": 4
}
