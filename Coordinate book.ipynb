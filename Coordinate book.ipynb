{
 "cells": [
  {
   "cell_type": "markdown",
   "metadata": {},
   "source": [
    "https://stackoverflow.com/questions/59736682/find-nearest-location-coordinates-in-land-using-python"
   ]
  },
  {
   "cell_type": "code",
   "execution_count": 1,
   "metadata": {},
   "outputs": [],
   "source": [
    "import numpy as np\n",
    "import pandas as pd\n",
    "import geopandas as gp\n",
    "import geopy\n",
    "from geopy.geocoders import Nominatim\n",
    "\n",
    "from shapely.ops import nearest_points"
   ]
  },
  {
   "cell_type": "code",
   "execution_count": 2,
   "metadata": {},
   "outputs": [],
   "source": [
    "df = pd.read_csv('./datasets/Anti-Shipping_Activity_Messages.csv')\n",
    "df.dropna(inplace = True)"
   ]
  },
  {
   "cell_type": "code",
   "execution_count": 3,
   "metadata": {},
   "outputs": [
    {
     "data": {
      "text/html": [
       "<div>\n",
       "<style scoped>\n",
       "    .dataframe tbody tr th:only-of-type {\n",
       "        vertical-align: middle;\n",
       "    }\n",
       "\n",
       "    .dataframe tbody tr th {\n",
       "        vertical-align: top;\n",
       "    }\n",
       "\n",
       "    .dataframe thead th {\n",
       "        text-align: right;\n",
       "    }\n",
       "</style>\n",
       "<table border=\"1\" class=\"dataframe\">\n",
       "  <thead>\n",
       "    <tr style=\"text-align: right;\">\n",
       "      <th></th>\n",
       "      <th>X</th>\n",
       "      <th>Y</th>\n",
       "      <th>OBJECTID</th>\n",
       "      <th>reference</th>\n",
       "      <th>dateofocc</th>\n",
       "      <th>subreg</th>\n",
       "      <th>hostility_d</th>\n",
       "      <th>victim_d</th>\n",
       "      <th>description</th>\n",
       "      <th>hostilitytype_l</th>\n",
       "      <th>victim_l</th>\n",
       "      <th>navarea</th>\n",
       "    </tr>\n",
       "  </thead>\n",
       "  <tbody>\n",
       "    <tr>\n",
       "      <th>0</th>\n",
       "      <td>-75.133333</td>\n",
       "      <td>21.933333</td>\n",
       "      <td>1</td>\n",
       "      <td>1990-9</td>\n",
       "      <td>1990/06/03 00:00:00+00</td>\n",
       "      <td>26</td>\n",
       "      <td>CUBAN GUNBOAT</td>\n",
       "      <td>BELESBAT QUEEN</td>\n",
       "      <td>A CUBAN GUNBOAT COMMANDEERED LUXURY YACHT BELE...</td>\n",
       "      <td>2.0</td>\n",
       "      <td>11.0</td>\n",
       "      <td>IV</td>\n",
       "    </tr>\n",
       "    <tr>\n",
       "      <th>1</th>\n",
       "      <td>108.000000</td>\n",
       "      <td>3.000000</td>\n",
       "      <td>2</td>\n",
       "      <td>1990-10</td>\n",
       "      <td>1990/03/20 00:00:00+00</td>\n",
       "      <td>71</td>\n",
       "      <td>PIRATES</td>\n",
       "      <td>RO/RO SEA DRAGON</td>\n",
       "      <td>20 MARCH 1990. BORNEO.                        ...</td>\n",
       "      <td>1.0</td>\n",
       "      <td>3.0</td>\n",
       "      <td>XI</td>\n",
       "    </tr>\n",
       "    <tr>\n",
       "      <th>2</th>\n",
       "      <td>90.000000</td>\n",
       "      <td>-1.000000</td>\n",
       "      <td>3</td>\n",
       "      <td>1990-11</td>\n",
       "      <td>1990/03/20 00:00:00+00</td>\n",
       "      <td>61</td>\n",
       "      <td>PIRATES</td>\n",
       "      <td>RO/RO SUNRISE</td>\n",
       "      <td>20 MARCH 1990. SINGAPORE.                     ...</td>\n",
       "      <td>1.0</td>\n",
       "      <td>3.0</td>\n",
       "      <td>VIII</td>\n",
       "    </tr>\n",
       "    <tr>\n",
       "      <th>3</th>\n",
       "      <td>42.000000</td>\n",
       "      <td>14.000000</td>\n",
       "      <td>4</td>\n",
       "      <td>1989-16</td>\n",
       "      <td>1989/01/01 00:00:00+00</td>\n",
       "      <td>62</td>\n",
       "      <td>PEOPLES DEMOCRATIC REPUBLIC OF YEMEN</td>\n",
       "      <td>U.S. MARINERS</td>\n",
       "      <td>RED SEA, YEMEN                                ...</td>\n",
       "      <td>2.0</td>\n",
       "      <td>13.0</td>\n",
       "      <td>IX</td>\n",
       "    </tr>\n",
       "    <tr>\n",
       "      <th>4</th>\n",
       "      <td>80.300000</td>\n",
       "      <td>13.100000</td>\n",
       "      <td>5</td>\n",
       "      <td>1989-17</td>\n",
       "      <td>1989/09/23 00:00:00+00</td>\n",
       "      <td>63</td>\n",
       "      <td>PIRATES</td>\n",
       "      <td>LASH STONEWALL JACKSON</td>\n",
       "      <td>Indian ocean                                  ...</td>\n",
       "      <td>1.0</td>\n",
       "      <td>11.0</td>\n",
       "      <td>VIII</td>\n",
       "    </tr>\n",
       "  </tbody>\n",
       "</table>\n",
       "</div>"
      ],
      "text/plain": [
       "            X          Y  OBJECTID reference               dateofocc  subreg  \\\n",
       "0  -75.133333  21.933333         1    1990-9  1990/06/03 00:00:00+00      26   \n",
       "1  108.000000   3.000000         2   1990-10  1990/03/20 00:00:00+00      71   \n",
       "2   90.000000  -1.000000         3   1990-11  1990/03/20 00:00:00+00      61   \n",
       "3   42.000000  14.000000         4   1989-16  1989/01/01 00:00:00+00      62   \n",
       "4   80.300000  13.100000         5   1989-17  1989/09/23 00:00:00+00      63   \n",
       "\n",
       "                            hostility_d                victim_d  \\\n",
       "0                         CUBAN GUNBOAT          BELESBAT QUEEN   \n",
       "1                               PIRATES        RO/RO SEA DRAGON   \n",
       "2                               PIRATES           RO/RO SUNRISE   \n",
       "3  PEOPLES DEMOCRATIC REPUBLIC OF YEMEN           U.S. MARINERS   \n",
       "4                               PIRATES  LASH STONEWALL JACKSON   \n",
       "\n",
       "                                         description  hostilitytype_l  \\\n",
       "0  A CUBAN GUNBOAT COMMANDEERED LUXURY YACHT BELE...              2.0   \n",
       "1  20 MARCH 1990. BORNEO.                        ...              1.0   \n",
       "2  20 MARCH 1990. SINGAPORE.                     ...              1.0   \n",
       "3  RED SEA, YEMEN                                ...              2.0   \n",
       "4  Indian ocean                                  ...              1.0   \n",
       "\n",
       "   victim_l navarea  \n",
       "0      11.0      IV  \n",
       "1       3.0      XI  \n",
       "2       3.0    VIII  \n",
       "3      13.0      IX  \n",
       "4      11.0    VIII  "
      ]
     },
     "execution_count": 3,
     "metadata": {},
     "output_type": "execute_result"
    }
   ],
   "source": [
    "df.head(5)"
   ]
  },
  {
   "cell_type": "code",
   "execution_count": 4,
   "metadata": {},
   "outputs": [],
   "source": [
    "df['Y'] = [str(x) for x in df['Y']]\n",
    "df['X'] = [str(x) for x in df['X']]"
   ]
  },
  {
   "cell_type": "code",
   "execution_count": 5,
   "metadata": {},
   "outputs": [],
   "source": [
    "df['coords'] = df['Y'] + ',' + df['X']"
   ]
  },
  {
   "cell_type": "code",
   "execution_count": 6,
   "metadata": {},
   "outputs": [],
   "source": [
    "gloc = Nominatim(user_agent = 'Anything')"
   ]
  },
  {
   "cell_type": "code",
   "execution_count": 77,
   "metadata": {},
   "outputs": [],
   "source": [
    "def closest_country(c):\n",
    "    c = gloc.reverse(c, language = 'en')\n",
    "    try:\n",
    "        return c.raw['address']['country']\n",
    "    except:\n",
    "        return 'Oh no!'"
   ]
  },
  {
   "cell_type": "code",
   "execution_count": 78,
   "metadata": {},
   "outputs": [],
   "source": [
    "df_100 = df[:100]"
   ]
  },
  {
   "cell_type": "code",
   "execution_count": 79,
   "metadata": {},
   "outputs": [
    {
     "data": {
      "text/plain": [
       "0     21.9333333003936,-75.1333332999845\n",
       "1    3.00000000044236,108.00000000024099\n",
       "2    -0.99999999968702,89.99999999965858\n",
       "3     13.999999999898801,41.999999999905\n",
       "4      13.0999999995998,80.3000000003341\n",
       "Name: coords, dtype: object"
      ]
     },
     "execution_count": 79,
     "metadata": {},
     "output_type": "execute_result"
    }
   ],
   "source": [
    "df.coords[:5]"
   ]
  },
  {
   "cell_type": "code",
   "execution_count": 80,
   "metadata": {},
   "outputs": [
    {
     "data": {
      "text/plain": [
       "'Oh no!'"
      ]
     },
     "execution_count": 80,
     "metadata": {},
     "output_type": "execute_result"
    }
   ],
   "source": [
    "closest_country('9.999999999769392,-80.00000000044321')"
   ]
  },
  {
   "cell_type": "code",
   "execution_count": 81,
   "metadata": {},
   "outputs": [],
   "source": [
    "df_100_func = df_100['coords'].apply(lambda x: closest_country(x))"
   ]
  },
  {
   "cell_type": "code",
   "execution_count": 82,
   "metadata": {
    "scrolled": false
   },
   "outputs": [
    {
     "data": {
      "text/plain": [
       "Oh no!         26\n",
       "Brazil         11\n",
       "Indonesia      10\n",
       "China           8\n",
       "Philippines     8\n",
       "India           7\n",
       "Sri Lanka       5\n",
       "Eritrea         2\n",
       "Ecuador         2\n",
       "Malaysia        2\n",
       "Bangladesh      2\n",
       "Nigeria         1\n",
       "The Bahamas     1\n",
       "Somalia         1\n",
       "Lebanon         1\n",
       "Tanzania        1\n",
       "Thailand        1\n",
       "Visayas         1\n",
       "Senegal         1\n",
       "Guyana          1\n",
       "Cameroon        1\n",
       "Malta           1\n",
       "Mozambique      1\n",
       "Colombia        1\n",
       "Egypt           1\n",
       "Vietnam         1\n",
       "Nicaragua       1\n",
       "Algeria         1\n",
       "Name: coords, dtype: int64"
      ]
     },
     "execution_count": 82,
     "metadata": {},
     "output_type": "execute_result"
    }
   ],
   "source": [
    "df_100_func.value_counts()"
   ]
  },
  {
   "cell_type": "code",
   "execution_count": null,
   "metadata": {},
   "outputs": [],
   "source": []
  }
 ],
 "metadata": {
  "kernelspec": {
   "display_name": "Python 3",
   "language": "python",
   "name": "python3"
  },
  "language_info": {
   "codemirror_mode": {
    "name": "ipython",
    "version": 3
   },
   "file_extension": ".py",
   "mimetype": "text/x-python",
   "name": "python",
   "nbconvert_exporter": "python",
   "pygments_lexer": "ipython3",
   "version": "3.8.5"
  }
 },
 "nbformat": 4,
 "nbformat_minor": 4
}
