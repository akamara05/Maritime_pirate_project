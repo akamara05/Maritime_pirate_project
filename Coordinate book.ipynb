{
 "cells": [
  {
   "cell_type": "markdown",
   "metadata": {},
   "source": [
    "https://stackoverflow.com/questions/59736682/find-nearest-location-coordinates-in-land-using-python"
   ]
  },
  {
   "cell_type": "code",
   "execution_count": 1,
   "metadata": {},
   "outputs": [],
   "source": [
    "import numpy as np\n",
    "import pandas as pd\n",
    "import geopandas as gp\n",
    "import geopy\n",
    "from geopy.geocoders import Nominatim\n",
    "import time\n",
    "\n",
    "from shapely.ops import nearest_points"
   ]
  },
  {
   "cell_type": "code",
   "execution_count": 2,
   "metadata": {},
   "outputs": [],
   "source": [
    "df = pd.read_csv('./datasets/Anti-Shipping_Activity_Messages.csv')\n",
    "df.dropna(inplace = True)"
   ]
  },
  {
   "cell_type": "code",
   "execution_count": 3,
   "metadata": {},
   "outputs": [
    {
     "data": {
      "text/html": [
       "<div>\n",
       "<style scoped>\n",
       "    .dataframe tbody tr th:only-of-type {\n",
       "        vertical-align: middle;\n",
       "    }\n",
       "\n",
       "    .dataframe tbody tr th {\n",
       "        vertical-align: top;\n",
       "    }\n",
       "\n",
       "    .dataframe thead th {\n",
       "        text-align: right;\n",
       "    }\n",
       "</style>\n",
       "<table border=\"1\" class=\"dataframe\">\n",
       "  <thead>\n",
       "    <tr style=\"text-align: right;\">\n",
       "      <th></th>\n",
       "      <th>X</th>\n",
       "      <th>Y</th>\n",
       "      <th>OBJECTID</th>\n",
       "      <th>reference</th>\n",
       "      <th>dateofocc</th>\n",
       "      <th>subreg</th>\n",
       "      <th>hostility_d</th>\n",
       "      <th>victim_d</th>\n",
       "      <th>description</th>\n",
       "      <th>hostilitytype_l</th>\n",
       "      <th>victim_l</th>\n",
       "      <th>navarea</th>\n",
       "    </tr>\n",
       "  </thead>\n",
       "  <tbody>\n",
       "    <tr>\n",
       "      <th>0</th>\n",
       "      <td>-75.133333</td>\n",
       "      <td>21.933333</td>\n",
       "      <td>1</td>\n",
       "      <td>1990-9</td>\n",
       "      <td>1990/06/03 00:00:00+00</td>\n",
       "      <td>26</td>\n",
       "      <td>CUBAN GUNBOAT</td>\n",
       "      <td>BELESBAT QUEEN</td>\n",
       "      <td>A CUBAN GUNBOAT COMMANDEERED LUXURY YACHT BELE...</td>\n",
       "      <td>2.0</td>\n",
       "      <td>11.0</td>\n",
       "      <td>IV</td>\n",
       "    </tr>\n",
       "    <tr>\n",
       "      <th>1</th>\n",
       "      <td>108.000000</td>\n",
       "      <td>3.000000</td>\n",
       "      <td>2</td>\n",
       "      <td>1990-10</td>\n",
       "      <td>1990/03/20 00:00:00+00</td>\n",
       "      <td>71</td>\n",
       "      <td>PIRATES</td>\n",
       "      <td>RO/RO SEA DRAGON</td>\n",
       "      <td>20 MARCH 1990. BORNEO.                        ...</td>\n",
       "      <td>1.0</td>\n",
       "      <td>3.0</td>\n",
       "      <td>XI</td>\n",
       "    </tr>\n",
       "    <tr>\n",
       "      <th>2</th>\n",
       "      <td>90.000000</td>\n",
       "      <td>-1.000000</td>\n",
       "      <td>3</td>\n",
       "      <td>1990-11</td>\n",
       "      <td>1990/03/20 00:00:00+00</td>\n",
       "      <td>61</td>\n",
       "      <td>PIRATES</td>\n",
       "      <td>RO/RO SUNRISE</td>\n",
       "      <td>20 MARCH 1990. SINGAPORE.                     ...</td>\n",
       "      <td>1.0</td>\n",
       "      <td>3.0</td>\n",
       "      <td>VIII</td>\n",
       "    </tr>\n",
       "    <tr>\n",
       "      <th>3</th>\n",
       "      <td>42.000000</td>\n",
       "      <td>14.000000</td>\n",
       "      <td>4</td>\n",
       "      <td>1989-16</td>\n",
       "      <td>1989/01/01 00:00:00+00</td>\n",
       "      <td>62</td>\n",
       "      <td>PEOPLES DEMOCRATIC REPUBLIC OF YEMEN</td>\n",
       "      <td>U.S. MARINERS</td>\n",
       "      <td>RED SEA, YEMEN                                ...</td>\n",
       "      <td>2.0</td>\n",
       "      <td>13.0</td>\n",
       "      <td>IX</td>\n",
       "    </tr>\n",
       "    <tr>\n",
       "      <th>4</th>\n",
       "      <td>80.300000</td>\n",
       "      <td>13.100000</td>\n",
       "      <td>5</td>\n",
       "      <td>1989-17</td>\n",
       "      <td>1989/09/23 00:00:00+00</td>\n",
       "      <td>63</td>\n",
       "      <td>PIRATES</td>\n",
       "      <td>LASH STONEWALL JACKSON</td>\n",
       "      <td>Indian ocean                                  ...</td>\n",
       "      <td>1.0</td>\n",
       "      <td>11.0</td>\n",
       "      <td>VIII</td>\n",
       "    </tr>\n",
       "  </tbody>\n",
       "</table>\n",
       "</div>"
      ],
      "text/plain": [
       "            X          Y  OBJECTID reference               dateofocc  subreg  \\\n",
       "0  -75.133333  21.933333         1    1990-9  1990/06/03 00:00:00+00      26   \n",
       "1  108.000000   3.000000         2   1990-10  1990/03/20 00:00:00+00      71   \n",
       "2   90.000000  -1.000000         3   1990-11  1990/03/20 00:00:00+00      61   \n",
       "3   42.000000  14.000000         4   1989-16  1989/01/01 00:00:00+00      62   \n",
       "4   80.300000  13.100000         5   1989-17  1989/09/23 00:00:00+00      63   \n",
       "\n",
       "                            hostility_d                victim_d  \\\n",
       "0                         CUBAN GUNBOAT          BELESBAT QUEEN   \n",
       "1                               PIRATES        RO/RO SEA DRAGON   \n",
       "2                               PIRATES           RO/RO SUNRISE   \n",
       "3  PEOPLES DEMOCRATIC REPUBLIC OF YEMEN           U.S. MARINERS   \n",
       "4                               PIRATES  LASH STONEWALL JACKSON   \n",
       "\n",
       "                                         description  hostilitytype_l  \\\n",
       "0  A CUBAN GUNBOAT COMMANDEERED LUXURY YACHT BELE...              2.0   \n",
       "1  20 MARCH 1990. BORNEO.                        ...              1.0   \n",
       "2  20 MARCH 1990. SINGAPORE.                     ...              1.0   \n",
       "3  RED SEA, YEMEN                                ...              2.0   \n",
       "4  Indian ocean                                  ...              1.0   \n",
       "\n",
       "   victim_l navarea  \n",
       "0      11.0      IV  \n",
       "1       3.0      XI  \n",
       "2       3.0    VIII  \n",
       "3      13.0      IX  \n",
       "4      11.0    VIII  "
      ]
     },
     "execution_count": 3,
     "metadata": {},
     "output_type": "execute_result"
    }
   ],
   "source": [
    "df.head(5)"
   ]
  },
  {
   "cell_type": "code",
   "execution_count": 4,
   "metadata": {},
   "outputs": [],
   "source": [
    "df['Y'] = [str(x) for x in df['Y']]\n",
    "df['X'] = [str(x) for x in df['X']]"
   ]
  },
  {
   "cell_type": "code",
   "execution_count": 5,
   "metadata": {},
   "outputs": [],
   "source": [
    "df['coords'] = df['Y'] + ',' + df['X']"
   ]
  },
  {
   "cell_type": "code",
   "execution_count": 6,
   "metadata": {},
   "outputs": [],
   "source": [
    "gloc = Nominatim(user_agent = 'Anything')"
   ]
  },
  {
   "cell_type": "code",
   "execution_count": 52,
   "metadata": {},
   "outputs": [],
   "source": [
    "def closest_country(c):\n",
    "    time.sleep(1)\n",
    "    try:\n",
    "        c = gloc.reverse(c, language = 'en')\n",
    "        return c.raw['address']['country']\n",
    "    except:\n",
    "        return 'International Waters'"
   ]
  },
  {
   "cell_type": "code",
   "execution_count": 15,
   "metadata": {},
   "outputs": [],
   "source": [
    "df_locations_1_250 = df['coords'][:250].apply(lambda x: closest_country(x))"
   ]
  },
  {
   "cell_type": "code",
   "execution_count": 43,
   "metadata": {},
   "outputs": [],
   "source": [
    "df_locations_250_500 = df['coords'][250:500].apply(lambda x: closest_country(x))"
   ]
  },
  {
   "cell_type": "code",
   "execution_count": 45,
   "metadata": {},
   "outputs": [],
   "source": [
    "df_locations_500_750 = df['coords'][500:750].apply(lambda x: closest_country(x))"
   ]
  },
  {
   "cell_type": "code",
   "execution_count": 48,
   "metadata": {},
   "outputs": [],
   "source": [
    "df_locations_750_1000 = df['coords'][750:1000].apply(lambda x: closest_country(x))"
   ]
  },
  {
   "cell_type": "code",
   "execution_count": 50,
   "metadata": {},
   "outputs": [],
   "source": [
    "df_locations_1000_1500 = df['coords'][1000:1500].apply(lambda x: closest_country(x))"
   ]
  },
  {
   "cell_type": "code",
   "execution_count": 53,
   "metadata": {},
   "outputs": [],
   "source": [
    "df_locations_1500_2500 = df['coords'][1500:2500].apply(lambda x: closest_country(x))"
   ]
  },
  {
   "cell_type": "code",
   "execution_count": null,
   "metadata": {},
   "outputs": [],
   "source": [
    "df_locations_2500_end = df['coords'][2500:].apply(lambda x: closest_country(x))"
   ]
  }
 ],
 "metadata": {
  "kernelspec": {
   "display_name": "Python 3",
   "language": "python",
   "name": "python3"
  }
 },
 "nbformat": 4,
 "nbformat_minor": 4
}
