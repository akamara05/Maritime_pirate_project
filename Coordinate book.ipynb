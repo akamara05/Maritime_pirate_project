{
 "cells": [
  {
   "cell_type": "markdown",
   "metadata": {},
   "source": [
    "https://stackoverflow.com/questions/59736682/find-nearest-location-coordinates-in-land-using-python"
   ]
  },
  {
   "cell_type": "code",
   "execution_count": 1,
   "metadata": {},
   "outputs": [],
   "source": [
    "import numpy as np\n",
    "import pandas as pd\n",
    "import geopandas as gp\n",
    "import geopy\n",
    "from geopy.geocoders import Nominatim\n",
    "import time"
   ]
  },
  {
   "cell_type": "code",
   "execution_count": 2,
   "metadata": {},
   "outputs": [],
   "source": [
    "df = pd.read_csv('./datasets/Anti-Shipping_Activity_Messages.csv')\n",
    "df.dropna(inplace = True)"
   ]
  },
  {
   "cell_type": "code",
   "execution_count": 3,
   "metadata": {},
   "outputs": [
    {
     "data": {
      "text/html": [
       "<div>\n",
       "<style scoped>\n",
       "    .dataframe tbody tr th:only-of-type {\n",
       "        vertical-align: middle;\n",
       "    }\n",
       "\n",
       "    .dataframe tbody tr th {\n",
       "        vertical-align: top;\n",
       "    }\n",
       "\n",
       "    .dataframe thead th {\n",
       "        text-align: right;\n",
       "    }\n",
       "</style>\n",
       "<table border=\"1\" class=\"dataframe\">\n",
       "  <thead>\n",
       "    <tr style=\"text-align: right;\">\n",
       "      <th></th>\n",
       "      <th>X</th>\n",
       "      <th>Y</th>\n",
       "      <th>OBJECTID</th>\n",
       "      <th>reference</th>\n",
       "      <th>dateofocc</th>\n",
       "      <th>subreg</th>\n",
       "      <th>hostility_d</th>\n",
       "      <th>victim_d</th>\n",
       "      <th>description</th>\n",
       "      <th>hostilitytype_l</th>\n",
       "      <th>victim_l</th>\n",
       "      <th>navarea</th>\n",
       "    </tr>\n",
       "  </thead>\n",
       "  <tbody>\n",
       "    <tr>\n",
       "      <th>0</th>\n",
       "      <td>-75.133333</td>\n",
       "      <td>21.933333</td>\n",
       "      <td>1</td>\n",
       "      <td>1990-9</td>\n",
       "      <td>1990/06/03 00:00:00+00</td>\n",
       "      <td>26</td>\n",
       "      <td>CUBAN GUNBOAT</td>\n",
       "      <td>BELESBAT QUEEN</td>\n",
       "      <td>A CUBAN GUNBOAT COMMANDEERED LUXURY YACHT BELE...</td>\n",
       "      <td>2.0</td>\n",
       "      <td>11.0</td>\n",
       "      <td>IV</td>\n",
       "    </tr>\n",
       "    <tr>\n",
       "      <th>1</th>\n",
       "      <td>108.000000</td>\n",
       "      <td>3.000000</td>\n",
       "      <td>2</td>\n",
       "      <td>1990-10</td>\n",
       "      <td>1990/03/20 00:00:00+00</td>\n",
       "      <td>71</td>\n",
       "      <td>PIRATES</td>\n",
       "      <td>RO/RO SEA DRAGON</td>\n",
       "      <td>20 MARCH 1990. BORNEO.                        ...</td>\n",
       "      <td>1.0</td>\n",
       "      <td>3.0</td>\n",
       "      <td>XI</td>\n",
       "    </tr>\n",
       "    <tr>\n",
       "      <th>2</th>\n",
       "      <td>90.000000</td>\n",
       "      <td>-1.000000</td>\n",
       "      <td>3</td>\n",
       "      <td>1990-11</td>\n",
       "      <td>1990/03/20 00:00:00+00</td>\n",
       "      <td>61</td>\n",
       "      <td>PIRATES</td>\n",
       "      <td>RO/RO SUNRISE</td>\n",
       "      <td>20 MARCH 1990. SINGAPORE.                     ...</td>\n",
       "      <td>1.0</td>\n",
       "      <td>3.0</td>\n",
       "      <td>VIII</td>\n",
       "    </tr>\n",
       "    <tr>\n",
       "      <th>3</th>\n",
       "      <td>42.000000</td>\n",
       "      <td>14.000000</td>\n",
       "      <td>4</td>\n",
       "      <td>1989-16</td>\n",
       "      <td>1989/01/01 00:00:00+00</td>\n",
       "      <td>62</td>\n",
       "      <td>PEOPLES DEMOCRATIC REPUBLIC OF YEMEN</td>\n",
       "      <td>U.S. MARINERS</td>\n",
       "      <td>RED SEA, YEMEN                                ...</td>\n",
       "      <td>2.0</td>\n",
       "      <td>13.0</td>\n",
       "      <td>IX</td>\n",
       "    </tr>\n",
       "    <tr>\n",
       "      <th>4</th>\n",
       "      <td>80.300000</td>\n",
       "      <td>13.100000</td>\n",
       "      <td>5</td>\n",
       "      <td>1989-17</td>\n",
       "      <td>1989/09/23 00:00:00+00</td>\n",
       "      <td>63</td>\n",
       "      <td>PIRATES</td>\n",
       "      <td>LASH STONEWALL JACKSON</td>\n",
       "      <td>Indian ocean                                  ...</td>\n",
       "      <td>1.0</td>\n",
       "      <td>11.0</td>\n",
       "      <td>VIII</td>\n",
       "    </tr>\n",
       "  </tbody>\n",
       "</table>\n",
       "</div>"
      ],
      "text/plain": [
       "            X          Y  OBJECTID reference               dateofocc  subreg  \\\n",
       "0  -75.133333  21.933333         1    1990-9  1990/06/03 00:00:00+00      26   \n",
       "1  108.000000   3.000000         2   1990-10  1990/03/20 00:00:00+00      71   \n",
       "2   90.000000  -1.000000         3   1990-11  1990/03/20 00:00:00+00      61   \n",
       "3   42.000000  14.000000         4   1989-16  1989/01/01 00:00:00+00      62   \n",
       "4   80.300000  13.100000         5   1989-17  1989/09/23 00:00:00+00      63   \n",
       "\n",
       "                            hostility_d                victim_d  \\\n",
       "0                         CUBAN GUNBOAT          BELESBAT QUEEN   \n",
       "1                               PIRATES        RO/RO SEA DRAGON   \n",
       "2                               PIRATES           RO/RO SUNRISE   \n",
       "3  PEOPLES DEMOCRATIC REPUBLIC OF YEMEN           U.S. MARINERS   \n",
       "4                               PIRATES  LASH STONEWALL JACKSON   \n",
       "\n",
       "                                         description  hostilitytype_l  \\\n",
       "0  A CUBAN GUNBOAT COMMANDEERED LUXURY YACHT BELE...              2.0   \n",
       "1  20 MARCH 1990. BORNEO.                        ...              1.0   \n",
       "2  20 MARCH 1990. SINGAPORE.                     ...              1.0   \n",
       "3  RED SEA, YEMEN                                ...              2.0   \n",
       "4  Indian ocean                                  ...              1.0   \n",
       "\n",
       "   victim_l navarea  \n",
       "0      11.0      IV  \n",
       "1       3.0      XI  \n",
       "2       3.0    VIII  \n",
       "3      13.0      IX  \n",
       "4      11.0    VIII  "
      ]
     },
     "execution_count": 3,
     "metadata": {},
     "output_type": "execute_result"
    }
   ],
   "source": [
    "df.head(5)"
   ]
  },
  {
   "cell_type": "code",
   "execution_count": 4,
   "metadata": {},
   "outputs": [],
   "source": [
    "df['Y'] = [str(x) for x in df['Y']]\n",
    "df['X'] = [str(x) for x in df['X']]"
   ]
  },
  {
   "cell_type": "code",
   "execution_count": 5,
   "metadata": {},
   "outputs": [],
   "source": [
    "df['coords'] = df['Y'] + ',' + df['X']"
   ]
  },
  {
   "cell_type": "code",
   "execution_count": 6,
   "metadata": {},
   "outputs": [],
   "source": [
    "gloc = Nominatim(user_agent = 'Anything')"
   ]
  },
  {
   "cell_type": "code",
   "execution_count": 7,
   "metadata": {},
   "outputs": [],
   "source": [
    "def closest_country(c):\n",
    "    time.sleep(1)\n",
    "    try:\n",
    "        c = gloc.reverse(c, language = 'en')\n",
    "        return c.raw['address']['country']\n",
    "    except:\n",
    "        return 'International Waters'"
   ]
  },
  {
   "cell_type": "code",
   "execution_count": 8,
   "metadata": {},
   "outputs": [],
   "source": [
    "# df_locations_1_250 = df['coords'][:250].apply(lambda x: closest_country(x))\n",
    "# df_locations_250_500 = df['coords'][250:500].apply(lambda x: closest_country(x))\n",
    "# df_locations_500_750 = df['coords'][500:750].apply(lambda x: closest_country(x))\n",
    "# df_locations_750_1000 = df['coords'][750:1000].apply(lambda x: closest_country(x))\n",
    "# df_locations_1000_1500 = df['coords'][1000:1500].apply(lambda x: closest_country(x))\n",
    "# df_locations_1500_2500 = df['coords'][1500:2500].apply(lambda x: closest_country(x))\n",
    "# df_locations_2500_end = df['coords'][2500:].apply(lambda x: closest_country(x))"
   ]
  },
  {
   "cell_type": "code",
   "execution_count": null,
   "metadata": {},
   "outputs": [],
   "source": []
  },
  {
   "cell_type": "code",
   "execution_count": 9,
   "metadata": {},
   "outputs": [],
   "source": [
    "df = pd.read_csv('./datasets/esri_w_country_columns')"
   ]
  },
  {
   "cell_type": "code",
   "execution_count": 10,
   "metadata": {},
   "outputs": [
    {
     "data": {
      "text/html": [
       "<div>\n",
       "<style scoped>\n",
       "    .dataframe tbody tr th:only-of-type {\n",
       "        vertical-align: middle;\n",
       "    }\n",
       "\n",
       "    .dataframe tbody tr th {\n",
       "        vertical-align: top;\n",
       "    }\n",
       "\n",
       "    .dataframe thead th {\n",
       "        text-align: right;\n",
       "    }\n",
       "</style>\n",
       "<table border=\"1\" class=\"dataframe\">\n",
       "  <thead>\n",
       "    <tr style=\"text-align: right;\">\n",
       "      <th></th>\n",
       "      <th>Unnamed: 0</th>\n",
       "      <th>X</th>\n",
       "      <th>Y</th>\n",
       "      <th>OBJECTID</th>\n",
       "      <th>reference</th>\n",
       "      <th>dateofocc</th>\n",
       "      <th>subreg</th>\n",
       "      <th>hostility_d</th>\n",
       "      <th>victim_d</th>\n",
       "      <th>description</th>\n",
       "      <th>hostilitytype_l</th>\n",
       "      <th>victim_l</th>\n",
       "      <th>navarea</th>\n",
       "      <th>coords</th>\n",
       "      <th>country</th>\n",
       "    </tr>\n",
       "  </thead>\n",
       "  <tbody>\n",
       "    <tr>\n",
       "      <th>0</th>\n",
       "      <td>0</td>\n",
       "      <td>-75.133333</td>\n",
       "      <td>21.933333</td>\n",
       "      <td>1</td>\n",
       "      <td>1990-9</td>\n",
       "      <td>1990/06/03 00:00:00+00</td>\n",
       "      <td>26</td>\n",
       "      <td>CUBAN GUNBOAT</td>\n",
       "      <td>BELESBAT QUEEN</td>\n",
       "      <td>A CUBAN GUNBOAT COMMANDEERED LUXURY YACHT BELE...</td>\n",
       "      <td>2.0</td>\n",
       "      <td>11.0</td>\n",
       "      <td>IV</td>\n",
       "      <td>21.9333333003936,-75.1333332999845</td>\n",
       "      <td>The Bahamas</td>\n",
       "    </tr>\n",
       "    <tr>\n",
       "      <th>1</th>\n",
       "      <td>1</td>\n",
       "      <td>108.000000</td>\n",
       "      <td>3.000000</td>\n",
       "      <td>2</td>\n",
       "      <td>1990-10</td>\n",
       "      <td>1990/03/20 00:00:00+00</td>\n",
       "      <td>71</td>\n",
       "      <td>PIRATES</td>\n",
       "      <td>RO/RO SEA DRAGON</td>\n",
       "      <td>20 MARCH 1990. BORNEO.                        ...</td>\n",
       "      <td>1.0</td>\n",
       "      <td>3.0</td>\n",
       "      <td>XI</td>\n",
       "      <td>3.00000000044236,108.00000000024099</td>\n",
       "      <td>Indonesia</td>\n",
       "    </tr>\n",
       "    <tr>\n",
       "      <th>2</th>\n",
       "      <td>2</td>\n",
       "      <td>90.000000</td>\n",
       "      <td>-1.000000</td>\n",
       "      <td>3</td>\n",
       "      <td>1990-11</td>\n",
       "      <td>1990/03/20 00:00:00+00</td>\n",
       "      <td>61</td>\n",
       "      <td>PIRATES</td>\n",
       "      <td>RO/RO SUNRISE</td>\n",
       "      <td>20 MARCH 1990. SINGAPORE.                     ...</td>\n",
       "      <td>1.0</td>\n",
       "      <td>3.0</td>\n",
       "      <td>VIII</td>\n",
       "      <td>-0.99999999968702,89.99999999965858</td>\n",
       "      <td>International Waters</td>\n",
       "    </tr>\n",
       "    <tr>\n",
       "      <th>3</th>\n",
       "      <td>3</td>\n",
       "      <td>42.000000</td>\n",
       "      <td>14.000000</td>\n",
       "      <td>4</td>\n",
       "      <td>1989-16</td>\n",
       "      <td>1989/01/01 00:00:00+00</td>\n",
       "      <td>62</td>\n",
       "      <td>PEOPLES DEMOCRATIC REPUBLIC OF YEMEN</td>\n",
       "      <td>U.S. MARINERS</td>\n",
       "      <td>RED SEA, YEMEN                                ...</td>\n",
       "      <td>2.0</td>\n",
       "      <td>13.0</td>\n",
       "      <td>IX</td>\n",
       "      <td>13.999999999898801,41.999999999905</td>\n",
       "      <td>Eritrea</td>\n",
       "    </tr>\n",
       "    <tr>\n",
       "      <th>4</th>\n",
       "      <td>4</td>\n",
       "      <td>80.300000</td>\n",
       "      <td>13.100000</td>\n",
       "      <td>5</td>\n",
       "      <td>1989-17</td>\n",
       "      <td>1989/09/23 00:00:00+00</td>\n",
       "      <td>63</td>\n",
       "      <td>PIRATES</td>\n",
       "      <td>LASH STONEWALL JACKSON</td>\n",
       "      <td>Indian ocean                                  ...</td>\n",
       "      <td>1.0</td>\n",
       "      <td>11.0</td>\n",
       "      <td>VIII</td>\n",
       "      <td>13.0999999995998,80.3000000003341</td>\n",
       "      <td>India</td>\n",
       "    </tr>\n",
       "  </tbody>\n",
       "</table>\n",
       "</div>"
      ],
      "text/plain": [
       "   Unnamed: 0           X          Y  OBJECTID reference  \\\n",
       "0           0  -75.133333  21.933333         1    1990-9   \n",
       "1           1  108.000000   3.000000         2   1990-10   \n",
       "2           2   90.000000  -1.000000         3   1990-11   \n",
       "3           3   42.000000  14.000000         4   1989-16   \n",
       "4           4   80.300000  13.100000         5   1989-17   \n",
       "\n",
       "                dateofocc  subreg                           hostility_d  \\\n",
       "0  1990/06/03 00:00:00+00      26                         CUBAN GUNBOAT   \n",
       "1  1990/03/20 00:00:00+00      71                               PIRATES   \n",
       "2  1990/03/20 00:00:00+00      61                               PIRATES   \n",
       "3  1989/01/01 00:00:00+00      62  PEOPLES DEMOCRATIC REPUBLIC OF YEMEN   \n",
       "4  1989/09/23 00:00:00+00      63                               PIRATES   \n",
       "\n",
       "                 victim_d                                        description  \\\n",
       "0          BELESBAT QUEEN  A CUBAN GUNBOAT COMMANDEERED LUXURY YACHT BELE...   \n",
       "1        RO/RO SEA DRAGON  20 MARCH 1990. BORNEO.                        ...   \n",
       "2           RO/RO SUNRISE  20 MARCH 1990. SINGAPORE.                     ...   \n",
       "3           U.S. MARINERS  RED SEA, YEMEN                                ...   \n",
       "4  LASH STONEWALL JACKSON  Indian ocean                                  ...   \n",
       "\n",
       "   hostilitytype_l  victim_l navarea                               coords  \\\n",
       "0              2.0      11.0      IV   21.9333333003936,-75.1333332999845   \n",
       "1              1.0       3.0      XI  3.00000000044236,108.00000000024099   \n",
       "2              1.0       3.0    VIII  -0.99999999968702,89.99999999965858   \n",
       "3              2.0      13.0      IX   13.999999999898801,41.999999999905   \n",
       "4              1.0      11.0    VIII    13.0999999995998,80.3000000003341   \n",
       "\n",
       "                country  \n",
       "0           The Bahamas  \n",
       "1             Indonesia  \n",
       "2  International Waters  \n",
       "3               Eritrea  \n",
       "4                 India  "
      ]
     },
     "execution_count": 10,
     "metadata": {},
     "output_type": "execute_result"
    }
   ],
   "source": [
    "df.head()"
   ]
  },
  {
   "cell_type": "code",
   "execution_count": 11,
   "metadata": {},
   "outputs": [],
   "source": [
    "# poverty = pd.read_csv('./sdg_piracy_sheets/csv_data/t111.csv', index_col =[0]) \n",
    "# land_rights = pd.read_csv('./sdg_piracy_sheets/csv_data/t142.csv', index_col =[0]) \n",
    "# education = pd.read_csv('./sdg_piracy_sheets/csv_data/t411.csv', index_col =[0]) \n",
    "# overfishing = pd.read_csv('./sdg_piracy_sheets/csv_data/t1441.csv', index_col =[0]) \n",
    "# sea_law = pd.read_csv('./sdg_piracy_sheets/csv_data/t14c1.csv', index_col =[0]) "
   ]
  },
  {
   "cell_type": "code",
   "execution_count": 12,
   "metadata": {},
   "outputs": [],
   "source": [
    "# Value, time, GeoArea Code, GeoAreaName, Units\n",
    "# poverty.head(40)"
   ]
  },
  {
   "cell_type": "code",
   "execution_count": 13,
   "metadata": {},
   "outputs": [],
   "source": [
    "# land_rights.SeriesDescription.unique()"
   ]
  },
  {
   "cell_type": "code",
   "execution_count": 14,
   "metadata": {},
   "outputs": [],
   "source": [
    "# Value based on year/country (keep Series Description)\n",
    "# education.GeoAreaName.value_counts()"
   ]
  },
  {
   "cell_type": "code",
   "execution_count": 15,
   "metadata": {},
   "outputs": [],
   "source": [
    "# overfishing.Value"
   ]
  },
  {
   "cell_type": "code",
   "execution_count": 16,
   "metadata": {},
   "outputs": [],
   "source": [
    "# sea_law.SeriesDescription.unique()"
   ]
  },
  {
   "cell_type": "code",
   "execution_count": 17,
   "metadata": {},
   "outputs": [],
   "source": [
    "# sea_law.shape"
   ]
  },
  {
   "cell_type": "code",
   "execution_count": 18,
   "metadata": {},
   "outputs": [
    {
     "data": {
      "text/html": [
       "<div>\n",
       "<style scoped>\n",
       "    .dataframe tbody tr th:only-of-type {\n",
       "        vertical-align: middle;\n",
       "    }\n",
       "\n",
       "    .dataframe tbody tr th {\n",
       "        vertical-align: top;\n",
       "    }\n",
       "\n",
       "    .dataframe thead th {\n",
       "        text-align: right;\n",
       "    }\n",
       "</style>\n",
       "<table border=\"1\" class=\"dataframe\">\n",
       "  <thead>\n",
       "    <tr style=\"text-align: right;\">\n",
       "      <th></th>\n",
       "      <th>Unnamed: 0</th>\n",
       "      <th>X</th>\n",
       "      <th>Y</th>\n",
       "      <th>OBJECTID</th>\n",
       "      <th>reference</th>\n",
       "      <th>dateofocc</th>\n",
       "      <th>subreg</th>\n",
       "      <th>hostility_d</th>\n",
       "      <th>victim_d</th>\n",
       "      <th>description</th>\n",
       "      <th>hostilitytype_l</th>\n",
       "      <th>victim_l</th>\n",
       "      <th>navarea</th>\n",
       "      <th>coords</th>\n",
       "      <th>country</th>\n",
       "    </tr>\n",
       "  </thead>\n",
       "  <tbody>\n",
       "    <tr>\n",
       "      <th>0</th>\n",
       "      <td>0</td>\n",
       "      <td>-75.133333</td>\n",
       "      <td>21.933333</td>\n",
       "      <td>1</td>\n",
       "      <td>1990-9</td>\n",
       "      <td>1990/06/03 00:00:00+00</td>\n",
       "      <td>26</td>\n",
       "      <td>CUBAN GUNBOAT</td>\n",
       "      <td>BELESBAT QUEEN</td>\n",
       "      <td>A CUBAN GUNBOAT COMMANDEERED LUXURY YACHT BELE...</td>\n",
       "      <td>2.0</td>\n",
       "      <td>11.0</td>\n",
       "      <td>IV</td>\n",
       "      <td>21.9333333003936,-75.1333332999845</td>\n",
       "      <td>The Bahamas</td>\n",
       "    </tr>\n",
       "    <tr>\n",
       "      <th>1</th>\n",
       "      <td>1</td>\n",
       "      <td>108.000000</td>\n",
       "      <td>3.000000</td>\n",
       "      <td>2</td>\n",
       "      <td>1990-10</td>\n",
       "      <td>1990/03/20 00:00:00+00</td>\n",
       "      <td>71</td>\n",
       "      <td>PIRATES</td>\n",
       "      <td>RO/RO SEA DRAGON</td>\n",
       "      <td>20 MARCH 1990. BORNEO.                        ...</td>\n",
       "      <td>1.0</td>\n",
       "      <td>3.0</td>\n",
       "      <td>XI</td>\n",
       "      <td>3.00000000044236,108.00000000024099</td>\n",
       "      <td>Indonesia</td>\n",
       "    </tr>\n",
       "    <tr>\n",
       "      <th>2</th>\n",
       "      <td>2</td>\n",
       "      <td>90.000000</td>\n",
       "      <td>-1.000000</td>\n",
       "      <td>3</td>\n",
       "      <td>1990-11</td>\n",
       "      <td>1990/03/20 00:00:00+00</td>\n",
       "      <td>61</td>\n",
       "      <td>PIRATES</td>\n",
       "      <td>RO/RO SUNRISE</td>\n",
       "      <td>20 MARCH 1990. SINGAPORE.                     ...</td>\n",
       "      <td>1.0</td>\n",
       "      <td>3.0</td>\n",
       "      <td>VIII</td>\n",
       "      <td>-0.99999999968702,89.99999999965858</td>\n",
       "      <td>International Waters</td>\n",
       "    </tr>\n",
       "    <tr>\n",
       "      <th>3</th>\n",
       "      <td>3</td>\n",
       "      <td>42.000000</td>\n",
       "      <td>14.000000</td>\n",
       "      <td>4</td>\n",
       "      <td>1989-16</td>\n",
       "      <td>1989/01/01 00:00:00+00</td>\n",
       "      <td>62</td>\n",
       "      <td>PEOPLES DEMOCRATIC REPUBLIC OF YEMEN</td>\n",
       "      <td>U.S. MARINERS</td>\n",
       "      <td>RED SEA, YEMEN                                ...</td>\n",
       "      <td>2.0</td>\n",
       "      <td>13.0</td>\n",
       "      <td>IX</td>\n",
       "      <td>13.999999999898801,41.999999999905</td>\n",
       "      <td>Eritrea</td>\n",
       "    </tr>\n",
       "    <tr>\n",
       "      <th>4</th>\n",
       "      <td>4</td>\n",
       "      <td>80.300000</td>\n",
       "      <td>13.100000</td>\n",
       "      <td>5</td>\n",
       "      <td>1989-17</td>\n",
       "      <td>1989/09/23 00:00:00+00</td>\n",
       "      <td>63</td>\n",
       "      <td>PIRATES</td>\n",
       "      <td>LASH STONEWALL JACKSON</td>\n",
       "      <td>Indian ocean                                  ...</td>\n",
       "      <td>1.0</td>\n",
       "      <td>11.0</td>\n",
       "      <td>VIII</td>\n",
       "      <td>13.0999999995998,80.3000000003341</td>\n",
       "      <td>India</td>\n",
       "    </tr>\n",
       "  </tbody>\n",
       "</table>\n",
       "</div>"
      ],
      "text/plain": [
       "   Unnamed: 0           X          Y  OBJECTID reference  \\\n",
       "0           0  -75.133333  21.933333         1    1990-9   \n",
       "1           1  108.000000   3.000000         2   1990-10   \n",
       "2           2   90.000000  -1.000000         3   1990-11   \n",
       "3           3   42.000000  14.000000         4   1989-16   \n",
       "4           4   80.300000  13.100000         5   1989-17   \n",
       "\n",
       "                dateofocc  subreg                           hostility_d  \\\n",
       "0  1990/06/03 00:00:00+00      26                         CUBAN GUNBOAT   \n",
       "1  1990/03/20 00:00:00+00      71                               PIRATES   \n",
       "2  1990/03/20 00:00:00+00      61                               PIRATES   \n",
       "3  1989/01/01 00:00:00+00      62  PEOPLES DEMOCRATIC REPUBLIC OF YEMEN   \n",
       "4  1989/09/23 00:00:00+00      63                               PIRATES   \n",
       "\n",
       "                 victim_d                                        description  \\\n",
       "0          BELESBAT QUEEN  A CUBAN GUNBOAT COMMANDEERED LUXURY YACHT BELE...   \n",
       "1        RO/RO SEA DRAGON  20 MARCH 1990. BORNEO.                        ...   \n",
       "2           RO/RO SUNRISE  20 MARCH 1990. SINGAPORE.                     ...   \n",
       "3           U.S. MARINERS  RED SEA, YEMEN                                ...   \n",
       "4  LASH STONEWALL JACKSON  Indian ocean                                  ...   \n",
       "\n",
       "   hostilitytype_l  victim_l navarea                               coords  \\\n",
       "0              2.0      11.0      IV   21.9333333003936,-75.1333332999845   \n",
       "1              1.0       3.0      XI  3.00000000044236,108.00000000024099   \n",
       "2              1.0       3.0    VIII  -0.99999999968702,89.99999999965858   \n",
       "3              2.0      13.0      IX   13.999999999898801,41.999999999905   \n",
       "4              1.0      11.0    VIII    13.0999999995998,80.3000000003341   \n",
       "\n",
       "                country  \n",
       "0           The Bahamas  \n",
       "1             Indonesia  \n",
       "2  International Waters  \n",
       "3               Eritrea  \n",
       "4                 India  "
      ]
     },
     "execution_count": 18,
     "metadata": {},
     "output_type": "execute_result"
    }
   ],
   "source": [
    "df.head()"
   ]
  },
  {
   "cell_type": "code",
   "execution_count": 19,
   "metadata": {},
   "outputs": [],
   "source": [
    "df.drop(columns = ['Unnamed: 0'], inplace = True)"
   ]
  },
  {
   "cell_type": "code",
   "execution_count": 20,
   "metadata": {},
   "outputs": [],
   "source": [
    "#Breaking into month, year, day and time.\n",
    "df['year'] = [x[0:4] for x in df.dateofocc]\n",
    "df['month'] = [x[5:7] for x in df.dateofocc]\n",
    "df['day'] = [x[8:10] for x in df.dateofocc]\n",
    "df['time'] = [x[11:] for x in df.dateofocc]"
   ]
  },
  {
   "cell_type": "code",
   "execution_count": 21,
   "metadata": {},
   "outputs": [
    {
     "data": {
      "text/plain": [
       "X                  7792\n",
       "Y                  7792\n",
       "OBJECTID           7792\n",
       "reference          7792\n",
       "dateofocc          7792\n",
       "subreg             7792\n",
       "hostility_d        7792\n",
       "victim_d           7792\n",
       "description        7792\n",
       "hostilitytype_l    7792\n",
       "victim_l           7792\n",
       "navarea            7792\n",
       "coords             7792\n",
       "country            7792\n",
       "year               7792\n",
       "month              7792\n",
       "day                7792\n",
       "time               7792\n",
       "dtype: int64"
      ]
     },
     "execution_count": 21,
     "metadata": {},
     "output_type": "execute_result"
    }
   ],
   "source": [
    "df[df['time'] == '00:00:00+00'].count()\n",
    "#most rows are missing 'time'"
   ]
  },
  {
   "cell_type": "code",
   "execution_count": 22,
   "metadata": {},
   "outputs": [],
   "source": [
    "#Dropping time column\n",
    "df.drop(columns = 'time', inplace = True)"
   ]
  },
  {
   "cell_type": "code",
   "execution_count": 23,
   "metadata": {},
   "outputs": [],
   "source": [
    "#Dropping original date of occurence column\n",
    "df.drop(columns = 'dateofocc', inplace = True)"
   ]
  },
  {
   "cell_type": "code",
   "execution_count": 24,
   "metadata": {},
   "outputs": [],
   "source": [
    "#Dropping 'OBJECTID'\n",
    "df.drop(columns = 'OBJECTID', axis = 1, inplace = True)"
   ]
  },
  {
   "cell_type": "code",
   "execution_count": 25,
   "metadata": {},
   "outputs": [],
   "source": [
    "#Lowercase all text\n",
    "for i in df.columns:\n",
    "    if df[i].dtypes == 'O':\n",
    "        df[i] = df[i].str.lower()"
   ]
  },
  {
   "cell_type": "code",
   "execution_count": 26,
   "metadata": {},
   "outputs": [
    {
     "data": {
      "text/plain": [
       "1.0    6971\n",
       "3.0     537\n",
       "4.0     163\n",
       "6.0     124\n",
       "2.0      47\n",
       "5.0      40\n",
       "9.0       6\n",
       "7.0       1\n",
       "Name: hostilitytype_l, dtype: int64"
      ]
     },
     "execution_count": 26,
     "metadata": {},
     "output_type": "execute_result"
    }
   ],
   "source": [
    "df.hostilitytype_l.value_counts()"
   ]
  },
  {
   "cell_type": "code",
   "execution_count": 27,
   "metadata": {},
   "outputs": [],
   "source": [
    "host_lst = ['pirate_assaults', \n",
    "            'navel_engagement', \n",
    "            'suspicious_approach', \n",
    "            'kidnapping', \n",
    "            'unknown', \n",
    "            'other', \n",
    "            'hijacking', \n",
    "            'no entries', \n",
    "            'attempted_boarding']\n",
    "\n",
    "df.hostilitytype_l = [host_lst[int(x) - 1] for x in df.hostilitytype_l]"
   ]
  },
  {
   "cell_type": "code",
   "execution_count": 28,
   "metadata": {},
   "outputs": [],
   "source": [
    "victim_lst = ['anchored_vessel', \n",
    "            'barge', \n",
    "            'cargo_ship', \n",
    "            'fishing_vessel', \n",
    "            'merchant_vessel', \n",
    "            'offshore_vessel', \n",
    "            'passenger_ship', \n",
    "            'sailing_vessel', \n",
    "            'tanker',\n",
    "            'tugboat',\n",
    "            'vessel',\n",
    "            'unknown',\n",
    "            'other']\n",
    "\n",
    "df.victim_l = [victim_lst[int(x) - 1] for x in df.victim_l]"
   ]
  },
  {
   "cell_type": "code",
   "execution_count": 29,
   "metadata": {},
   "outputs": [],
   "source": [
    "#Dummy all categorical columns\n",
    "to_dummy = ['subreg', 'hostilitytype_l', 'victim_l', 'navarea', 'month']\n",
    "\n",
    "for i in to_dummy:\n",
    "    df = pd.concat([df, pd.get_dummies(df[i], prefix = i)], axis=1)\n",
    "#df.drop(columns = to_dummy, axis = 1)"
   ]
  },
  {
   "cell_type": "code",
   "execution_count": 30,
   "metadata": {},
   "outputs": [],
   "source": [
    "#ADD TO CLEANING\n",
    "\n",
    "success_dict = {\n",
    "    'pirate_assaults':1,      \n",
    "    'suspicious_approach':0,  \n",
    "    'kidnapping':1,\n",
    "    'other':0,\n",
    "    'navel_engagement':0, \n",
    "    'unknown':0,\n",
    "    'attempted_boarding':0,\n",
    "    'hijacking':1\n",
    "}\n",
    "\n",
    "\n",
    "\n",
    "df['pirate_success'] = df.hostilitytype_l.map(success_dict)"
   ]
  },
  {
   "cell_type": "code",
   "execution_count": 31,
   "metadata": {},
   "outputs": [],
   "source": [
    "df.to_csv('./datasets/cleaned_pirate_activity_eda.csv')"
   ]
  },
  {
   "cell_type": "code",
   "execution_count": null,
   "metadata": {},
   "outputs": [],
   "source": []
  }
 ],
 "metadata": {
  "kernelspec": {
   "display_name": "Python 3",
   "language": "python",
   "name": "python3"
  },
  "language_info": {
   "codemirror_mode": {
    "name": "ipython",
    "version": 3
   },
   "file_extension": ".py",
   "mimetype": "text/x-python",
   "name": "python",
   "nbconvert_exporter": "python",
   "pygments_lexer": "ipython3",
   "version": "3.8.5"
  }
 },
 "nbformat": 4,
 "nbformat_minor": 4
}
