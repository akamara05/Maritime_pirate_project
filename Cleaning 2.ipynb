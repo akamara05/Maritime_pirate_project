{
 "cells": [
  {
   "cell_type": "code",
   "execution_count": 1,
   "metadata": {},
   "outputs": [],
   "source": [
    "import numpy as np\n",
    "import pandas as pd"
   ]
  },
  {
   "cell_type": "code",
   "execution_count": 2,
   "metadata": {},
   "outputs": [],
   "source": [
    "t111 = pd.read_csv('./sdg_piracy_sheets/csv_data/t111.csv', index_col=[0])\n",
    "t142 = pd.read_csv('./sdg_piracy_sheets/csv_data/t142.csv', index_col=[0])\n",
    "t411 = pd.read_csv('./sdg_piracy_sheets/csv_data/t411.csv', index_col=[0])\n",
    "t1441 = pd.read_csv('./sdg_piracy_sheets/csv_data/t1441.csv', index_col=[0])\n",
    "t14c1 = pd.read_csv('./sdg_piracy_sheets/csv_data/t14c1.csv', index_col=[0])"
   ]
  },
  {
   "cell_type": "code",
   "execution_count": 3,
   "metadata": {},
   "outputs": [],
   "source": [
    "drop_lis = ['Goal', 'Target', 'SeriesCode', 'SeriesDescription', 'FootNote']\n",
    "t111.drop(drop_lis, axis=1, inplace=True)\n",
    "t142.drop(drop_lis, axis=1, inplace=True)\n",
    "t411.drop(drop_lis, axis=1, inplace=True)\n",
    "t1441.drop(drop_lis, axis=1, inplace=True)\n",
    "t14c1.drop(drop_lis, axis=1, inplace=True)"
   ]
  },
  {
   "cell_type": "code",
   "execution_count": 4,
   "metadata": {},
   "outputs": [],
   "source": [
    "poverty= t111[t111['Age']!='15-24']\n",
    "poverty= poverty[poverty['Age']!= '15+']\n",
    "poverty= poverty[poverty['Age']!= '25+']\n",
    "poverty= poverty[poverty['Sex']!= 'MALE']\n",
    "poverty= poverty[poverty['Age']!= 'FEMALE']"
   ]
  },
  {
   "cell_type": "code",
   "execution_count": 5,
   "metadata": {},
   "outputs": [
    {
     "data": {
      "text/plain": [
       "Indicator            0\n",
       "GeoAreaCode          0\n",
       "GeoAreaName          0\n",
       "TimePeriod           0\n",
       "Value                0\n",
       "Time_Detail          0\n",
       "Source               0\n",
       "Age               2084\n",
       "Nature               0\n",
       "Reporting Type       0\n",
       "Sex               2084\n",
       "Units                0\n",
       "dtype: int64"
      ]
     },
     "execution_count": 5,
     "metadata": {},
     "output_type": "execute_result"
    }
   ],
   "source": [
    "poverty.isnull().sum()"
   ]
  },
  {
   "cell_type": "code",
   "execution_count": 6,
   "metadata": {},
   "outputs": [],
   "source": [
    "drop_lis = ['Age', 'Sex', 'Time_Detail', 'Source', 'Nature', 'Reporting Type', 'Units']\n",
    "poverty.drop(drop_lis, axis=1, inplace=True)"
   ]
  },
  {
   "cell_type": "code",
   "execution_count": 7,
   "metadata": {},
   "outputs": [],
   "source": [
    "poverty.rename(columns={'Value':'poverty_percentage'}, inplace=True)"
   ]
  },
  {
   "cell_type": "code",
   "execution_count": 8,
   "metadata": {},
   "outputs": [
    {
     "data": {
      "text/plain": [
       "(2084, 5)"
      ]
     },
     "execution_count": 8,
     "metadata": {},
     "output_type": "execute_result"
    }
   ],
   "source": [
    "poverty.shape"
   ]
  },
  {
   "cell_type": "code",
   "execution_count": 9,
   "metadata": {},
   "outputs": [],
   "source": [
    "#https://stackoverflow.com/questions/65817843/how-to-create-new-rows-with-missing-years-and-populate-them-with-current-rows\n",
    "poverty = (poverty.set_index('TimePeriod').groupby('GeoAreaCode')\n",
    "   .apply(lambda x: x.reindex(np.arange(2000, 2022)).ffill())\n",
    "   .reset_index('GeoAreaCode',drop=True)\n",
    "   .reset_index())\n",
    "poverty.dropna(inplace=True)"
   ]
  },
  {
   "cell_type": "code",
   "execution_count": 10,
   "metadata": {},
   "outputs": [],
   "source": [
    "poverty = poverty[poverty['TimePeriod'] > 2009]"
   ]
  },
  {
   "cell_type": "code",
   "execution_count": 11,
   "metadata": {},
   "outputs": [
    {
     "data": {
      "text/html": [
       "<div>\n",
       "<style scoped>\n",
       "    .dataframe tbody tr th:only-of-type {\n",
       "        vertical-align: middle;\n",
       "    }\n",
       "\n",
       "    .dataframe tbody tr th {\n",
       "        vertical-align: top;\n",
       "    }\n",
       "\n",
       "    .dataframe thead th {\n",
       "        text-align: right;\n",
       "    }\n",
       "</style>\n",
       "<table border=\"1\" class=\"dataframe\">\n",
       "  <thead>\n",
       "    <tr style=\"text-align: right;\">\n",
       "      <th></th>\n",
       "      <th>TimePeriod</th>\n",
       "      <th>Indicator</th>\n",
       "      <th>GeoAreaCode</th>\n",
       "      <th>GeoAreaName</th>\n",
       "      <th>poverty_percentage</th>\n",
       "    </tr>\n",
       "  </thead>\n",
       "  <tbody>\n",
       "    <tr>\n",
       "      <th>10</th>\n",
       "      <td>2010</td>\n",
       "      <td>1.1.1</td>\n",
       "      <td>1.0</td>\n",
       "      <td>World</td>\n",
       "      <td>16.0</td>\n",
       "    </tr>\n",
       "    <tr>\n",
       "      <th>11</th>\n",
       "      <td>2011</td>\n",
       "      <td>1.1.1</td>\n",
       "      <td>1.0</td>\n",
       "      <td>World</td>\n",
       "      <td>13.9</td>\n",
       "    </tr>\n",
       "    <tr>\n",
       "      <th>12</th>\n",
       "      <td>2012</td>\n",
       "      <td>1.1.1</td>\n",
       "      <td>1.0</td>\n",
       "      <td>World</td>\n",
       "      <td>12.9</td>\n",
       "    </tr>\n",
       "    <tr>\n",
       "      <th>13</th>\n",
       "      <td>2013</td>\n",
       "      <td>1.1.1</td>\n",
       "      <td>1.0</td>\n",
       "      <td>World</td>\n",
       "      <td>11.4</td>\n",
       "    </tr>\n",
       "    <tr>\n",
       "      <th>14</th>\n",
       "      <td>2014</td>\n",
       "      <td>1.1.1</td>\n",
       "      <td>1.0</td>\n",
       "      <td>World</td>\n",
       "      <td>10.7</td>\n",
       "    </tr>\n",
       "    <tr>\n",
       "      <th>...</th>\n",
       "      <td>...</td>\n",
       "      <td>...</td>\n",
       "      <td>...</td>\n",
       "      <td>...</td>\n",
       "      <td>...</td>\n",
       "    </tr>\n",
       "    <tr>\n",
       "      <th>4483</th>\n",
       "      <td>2017</td>\n",
       "      <td>1.1.1</td>\n",
       "      <td>894.0</td>\n",
       "      <td>Zambia</td>\n",
       "      <td>58.7</td>\n",
       "    </tr>\n",
       "    <tr>\n",
       "      <th>4484</th>\n",
       "      <td>2018</td>\n",
       "      <td>1.1.1</td>\n",
       "      <td>894.0</td>\n",
       "      <td>Zambia</td>\n",
       "      <td>58.7</td>\n",
       "    </tr>\n",
       "    <tr>\n",
       "      <th>4485</th>\n",
       "      <td>2019</td>\n",
       "      <td>1.1.1</td>\n",
       "      <td>894.0</td>\n",
       "      <td>Zambia</td>\n",
       "      <td>58.7</td>\n",
       "    </tr>\n",
       "    <tr>\n",
       "      <th>4486</th>\n",
       "      <td>2020</td>\n",
       "      <td>1.1.1</td>\n",
       "      <td>894.0</td>\n",
       "      <td>Zambia</td>\n",
       "      <td>58.7</td>\n",
       "    </tr>\n",
       "    <tr>\n",
       "      <th>4487</th>\n",
       "      <td>2021</td>\n",
       "      <td>1.1.1</td>\n",
       "      <td>894.0</td>\n",
       "      <td>Zambia</td>\n",
       "      <td>58.7</td>\n",
       "    </tr>\n",
       "  </tbody>\n",
       "</table>\n",
       "<p>2413 rows × 5 columns</p>\n",
       "</div>"
      ],
      "text/plain": [
       "      TimePeriod Indicator  GeoAreaCode GeoAreaName  poverty_percentage\n",
       "10          2010     1.1.1          1.0       World                16.0\n",
       "11          2011     1.1.1          1.0       World                13.9\n",
       "12          2012     1.1.1          1.0       World                12.9\n",
       "13          2013     1.1.1          1.0       World                11.4\n",
       "14          2014     1.1.1          1.0       World                10.7\n",
       "...          ...       ...          ...         ...                 ...\n",
       "4483        2017     1.1.1        894.0      Zambia                58.7\n",
       "4484        2018     1.1.1        894.0      Zambia                58.7\n",
       "4485        2019     1.1.1        894.0      Zambia                58.7\n",
       "4486        2020     1.1.1        894.0      Zambia                58.7\n",
       "4487        2021     1.1.1        894.0      Zambia                58.7\n",
       "\n",
       "[2413 rows x 5 columns]"
      ]
     },
     "execution_count": 11,
     "metadata": {},
     "output_type": "execute_result"
    }
   ],
   "source": [
    "poverty"
   ]
  },
  {
   "cell_type": "code",
   "execution_count": 12,
   "metadata": {},
   "outputs": [
    {
     "data": {
      "text/html": [
       "<div>\n",
       "<style scoped>\n",
       "    .dataframe tbody tr th:only-of-type {\n",
       "        vertical-align: middle;\n",
       "    }\n",
       "\n",
       "    .dataframe tbody tr th {\n",
       "        vertical-align: top;\n",
       "    }\n",
       "\n",
       "    .dataframe thead th {\n",
       "        text-align: right;\n",
       "    }\n",
       "</style>\n",
       "<table border=\"1\" class=\"dataframe\">\n",
       "  <thead>\n",
       "    <tr style=\"text-align: right;\">\n",
       "      <th></th>\n",
       "      <th>TimePeriod</th>\n",
       "      <th>Indicator</th>\n",
       "      <th>GeoAreaCode</th>\n",
       "      <th>GeoAreaName</th>\n",
       "      <th>poverty_percentage</th>\n",
       "    </tr>\n",
       "  </thead>\n",
       "  <tbody>\n",
       "    <tr>\n",
       "      <th>10</th>\n",
       "      <td>2010</td>\n",
       "      <td>1.1.1</td>\n",
       "      <td>1.0</td>\n",
       "      <td>World</td>\n",
       "      <td>16.0</td>\n",
       "    </tr>\n",
       "    <tr>\n",
       "      <th>11</th>\n",
       "      <td>2011</td>\n",
       "      <td>1.1.1</td>\n",
       "      <td>1.0</td>\n",
       "      <td>World</td>\n",
       "      <td>13.9</td>\n",
       "    </tr>\n",
       "    <tr>\n",
       "      <th>12</th>\n",
       "      <td>2012</td>\n",
       "      <td>1.1.1</td>\n",
       "      <td>1.0</td>\n",
       "      <td>World</td>\n",
       "      <td>12.9</td>\n",
       "    </tr>\n",
       "    <tr>\n",
       "      <th>13</th>\n",
       "      <td>2013</td>\n",
       "      <td>1.1.1</td>\n",
       "      <td>1.0</td>\n",
       "      <td>World</td>\n",
       "      <td>11.4</td>\n",
       "    </tr>\n",
       "    <tr>\n",
       "      <th>14</th>\n",
       "      <td>2014</td>\n",
       "      <td>1.1.1</td>\n",
       "      <td>1.0</td>\n",
       "      <td>World</td>\n",
       "      <td>10.7</td>\n",
       "    </tr>\n",
       "    <tr>\n",
       "      <th>...</th>\n",
       "      <td>...</td>\n",
       "      <td>...</td>\n",
       "      <td>...</td>\n",
       "      <td>...</td>\n",
       "      <td>...</td>\n",
       "    </tr>\n",
       "    <tr>\n",
       "      <th>4483</th>\n",
       "      <td>2017</td>\n",
       "      <td>1.1.1</td>\n",
       "      <td>894.0</td>\n",
       "      <td>Zambia</td>\n",
       "      <td>58.7</td>\n",
       "    </tr>\n",
       "    <tr>\n",
       "      <th>4484</th>\n",
       "      <td>2018</td>\n",
       "      <td>1.1.1</td>\n",
       "      <td>894.0</td>\n",
       "      <td>Zambia</td>\n",
       "      <td>58.7</td>\n",
       "    </tr>\n",
       "    <tr>\n",
       "      <th>4485</th>\n",
       "      <td>2019</td>\n",
       "      <td>1.1.1</td>\n",
       "      <td>894.0</td>\n",
       "      <td>Zambia</td>\n",
       "      <td>58.7</td>\n",
       "    </tr>\n",
       "    <tr>\n",
       "      <th>4486</th>\n",
       "      <td>2020</td>\n",
       "      <td>1.1.1</td>\n",
       "      <td>894.0</td>\n",
       "      <td>Zambia</td>\n",
       "      <td>58.7</td>\n",
       "    </tr>\n",
       "    <tr>\n",
       "      <th>4487</th>\n",
       "      <td>2021</td>\n",
       "      <td>1.1.1</td>\n",
       "      <td>894.0</td>\n",
       "      <td>Zambia</td>\n",
       "      <td>58.7</td>\n",
       "    </tr>\n",
       "  </tbody>\n",
       "</table>\n",
       "<p>2413 rows × 5 columns</p>\n",
       "</div>"
      ],
      "text/plain": [
       "      TimePeriod Indicator  GeoAreaCode GeoAreaName  poverty_percentage\n",
       "10          2010     1.1.1          1.0       World                16.0\n",
       "11          2011     1.1.1          1.0       World                13.9\n",
       "12          2012     1.1.1          1.0       World                12.9\n",
       "13          2013     1.1.1          1.0       World                11.4\n",
       "14          2014     1.1.1          1.0       World                10.7\n",
       "...          ...       ...          ...         ...                 ...\n",
       "4483        2017     1.1.1        894.0      Zambia                58.7\n",
       "4484        2018     1.1.1        894.0      Zambia                58.7\n",
       "4485        2019     1.1.1        894.0      Zambia                58.7\n",
       "4486        2020     1.1.1        894.0      Zambia                58.7\n",
       "4487        2021     1.1.1        894.0      Zambia                58.7\n",
       "\n",
       "[2413 rows x 5 columns]"
      ]
     },
     "execution_count": 12,
     "metadata": {},
     "output_type": "execute_result"
    }
   ],
   "source": [
    "poverty"
   ]
  },
  {
   "cell_type": "code",
   "execution_count": 13,
   "metadata": {},
   "outputs": [],
   "source": [
    "poverty.to_csv('./datasets/poverty.csv')"
   ]
  },
  {
   "cell_type": "code",
   "execution_count": null,
   "metadata": {},
   "outputs": [],
   "source": []
  }
 ],
 "metadata": {
  "kernelspec": {
   "display_name": "Python 3 (ipykernel)",
   "language": "python",
   "name": "python3"
  },
  "language_info": {
   "codemirror_mode": {
    "name": "ipython",
    "version": 3
   },
   "file_extension": ".py",
   "mimetype": "text/x-python",
   "name": "python",
   "nbconvert_exporter": "python",
   "pygments_lexer": "ipython3",
   "version": "3.8.10"
  }
 },
 "nbformat": 4,
 "nbformat_minor": 4
}
