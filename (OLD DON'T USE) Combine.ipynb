{
 "cells": [
  {
   "cell_type": "markdown",
   "metadata": {},
   "source": [
    "X, Y coresponding country"
   ]
  },
  {
   "cell_type": "code",
   "execution_count": 1,
   "metadata": {},
   "outputs": [],
   "source": [
    "import numpy as np\n",
    "import pandas as pd\n",
    "import seaborn as sns\n",
    "from geopy.geocoders import Nominatim\n",
    "from geopy.point import Point"
   ]
  },
  {
   "cell_type": "code",
   "execution_count": 2,
   "metadata": {},
   "outputs": [],
   "source": [
    "esri_og = pd.read_csv('./datasets/Anti-Shipping_Activity_Messages.csv')"
   ]
  },
  {
   "cell_type": "code",
   "execution_count": 3,
   "metadata": {},
   "outputs": [
    {
     "data": {
      "text/plain": [
       "71    1681\n",
       "62    1214\n",
       "57    1187\n",
       "63    1051\n",
       "61     611\n",
       "72     514\n",
       "93     372\n",
       "24     368\n",
       "22     232\n",
       "51     175\n",
       "91     132\n",
       "25     124\n",
       "92     107\n",
       "26      91\n",
       "28      49\n",
       "94      46\n",
       "56      41\n",
       "73      40\n",
       "97      15\n",
       "82      15\n",
       "21      15\n",
       "53      14\n",
       "54      13\n",
       "74      11\n",
       "95      10\n",
       "52       9\n",
       "83       9\n",
       "27       7\n",
       "55       7\n",
       "81       6\n",
       "37       5\n",
       "44       3\n",
       "18       2\n",
       "96       2\n",
       "36       2\n",
       "11       1\n",
       "13       1\n",
       "23       1\n",
       "35       1\n",
       "12       1\n",
       "Name: subreg, dtype: int64"
      ]
     },
     "execution_count": 3,
     "metadata": {},
     "output_type": "execute_result"
    }
   ],
   "source": [
    "esri_og.subreg.value_counts()"
   ]
  },
  {
   "cell_type": "code",
   "execution_count": 4,
   "metadata": {},
   "outputs": [],
   "source": [
    "esri_df = pd.read_csv('./datasets/cleaned_pirate_activity.csv')"
   ]
  },
  {
   "cell_type": "code",
   "execution_count": 6,
   "metadata": {},
   "outputs": [
    {
     "data": {
      "text/plain": [
       "\"a cuban gunboat commandeered luxury yacht belesbat queen (145 feet)    14 miles north of cuba on 13 june 1990.  the cuban gunboat             fired shots across the yacht's bow several times.  cuban               authorities held the yacht the master and crew of 10 in the port       of vita for 5 days before releasing the yacht and crew.  the           yacht was in an international shipping lane known as the               old bahama channel when she was intercepted.\""
      ]
     },
     "execution_count": 6,
     "metadata": {},
     "output_type": "execute_result"
    }
   ],
   "source": []
  },
  {
   "cell_type": "code",
   "execution_count": null,
   "metadata": {},
   "outputs": [],
   "source": [
    "esri_df.columns"
   ]
  },
  {
   "cell_type": "code",
   "execution_count": null,
   "metadata": {},
   "outputs": [],
   "source": [
    "esri_df.head(5)"
   ]
  },
  {
   "cell_type": "code",
   "execution_count": null,
   "metadata": {},
   "outputs": [],
   "source": [
    "poverty = pd.read_csv('./sdg_piracy_sheets/csv_data/t111.csv') \n",
    "land_rights = pd.read_csv('./sdg_piracy_sheets/csv_data/t142.csv') \n",
    "education = pd.read_csv('./sdg_piracy_sheets/csv_data/t411.csv') \n",
    "overfishing = pd.read_csv('./sdg_piracy_sheets/csv_data/t1441.csv') \n",
    "sea_law = pd.read_csv('./sdg_piracy_sheets/csv_data/t14c1.csv') "
   ]
  },
  {
   "cell_type": "code",
   "execution_count": null,
   "metadata": {},
   "outputs": [],
   "source": [
    "poverty.head(1)"
   ]
  },
  {
   "cell_type": "code",
   "execution_count": null,
   "metadata": {},
   "outputs": [],
   "source": [
    "poverty = poverty.drop(columns = ['Unnamed: 0', 'Goal', 'Target', 'GeoAreaCode', 'FootNote', 'Source', 'Nature', 'Units'], axis = 1)"
   ]
  },
  {
   "cell_type": "code",
   "execution_count": null,
   "metadata": {},
   "outputs": [],
   "source": [
    "#drop where geoareaname == world \n",
    "poverty = poverty[poverty['GeoAreaName'] != 'World']"
   ]
  },
  {
   "cell_type": "code",
   "execution_count": null,
   "metadata": {},
   "outputs": [],
   "source": [
    "#change value from percent to decimal"
   ]
  },
  {
   "cell_type": "code",
   "execution_count": null,
   "metadata": {},
   "outputs": [],
   "source": [
    "land_rights = land_rights.drop(columns = ['Unnamed: 0', 'Goal', 'Target', 'SeriesCode', 'SeriesDescription', 'GeoAreaCode', 'FootNote', 'Source', 'Nature', 'Units'], axis = 1)"
   ]
  },
  {
   "cell_type": "code",
   "execution_count": null,
   "metadata": {},
   "outputs": [],
   "source": [
    "land_rights.head(1)"
   ]
  },
  {
   "cell_type": "code",
   "execution_count": null,
   "metadata": {},
   "outputs": [],
   "source": [
    "education = education.drop(columns = ['Unnamed: 0', 'Goal', 'Target', 'SeriesCode', 'SeriesDescription', 'GeoAreaCode', 'FootNote', 'Source', 'Nature', 'Units'], axis = 1)"
   ]
  },
  {
   "cell_type": "code",
   "execution_count": null,
   "metadata": {},
   "outputs": [],
   "source": [
    "overfishing = overfishing.drop(columns = ['Unnamed: 0', 'Goal', 'Target', 'SeriesCode', 'SeriesDescription', 'GeoAreaCode', 'FootNote', 'Source', 'Nature', 'Units'], axis = 1)"
   ]
  },
  {
   "cell_type": "code",
   "execution_count": null,
   "metadata": {},
   "outputs": [],
   "source": [
    "sea_law = sea_law.drop(columns = ['Unnamed: 0', 'Goal', 'Target', 'SeriesCode', 'SeriesDescription', 'GeoAreaCode', 'FootNote', 'Source', 'Nature', 'Units'], axis = 1)"
   ]
  },
  {
   "cell_type": "code",
   "execution_count": null,
   "metadata": {},
   "outputs": [],
   "source": [
    "geolocator = Nominatim(user_agent=\"geoapiExercises\")\n",
    "#https://www.geeksforgeeks.org/get-the-city-state-and-country-names-from-latitude-and-longitude-using-python/"
   ]
  },
  {
   "cell_type": "code",
   "execution_count": null,
   "metadata": {},
   "outputs": [],
   "source": [
    "location = geolocator.reverse( '14.000000'+ \",\" +'42.000000')\n",
    "#https://www.geeksforgeeks.org/get-the-city-state-and-country-names-from-latitude-and-longitude-using-python/"
   ]
  },
  {
   "cell_type": "code",
   "execution_count": null,
   "metadata": {},
   "outputs": [],
   "source": [
    "len(location)\n",
    "#https://www.geeksforgeeks.org/get-the-city-state-and-country-names-from-latitude-and-longitude-using-python/"
   ]
  },
  {
   "cell_type": "code",
   "execution_count": null,
   "metadata": {},
   "outputs": [],
   "source": [
    "#'14.000000'+ \",\" +'42.000000\n",
    "\n",
    "esri_df['loc_zip'] = list(zip(esri_df['Y'],esri_df['X']))"
   ]
  },
  {
   "cell_type": "code",
   "execution_count": null,
   "metadata": {},
   "outputs": [],
   "source": [
    "#esri_df['loc_zip'] = esri_df['loc_zip'].astype(str)"
   ]
  },
  {
   "cell_type": "code",
   "execution_count": null,
   "metadata": {},
   "outputs": [],
   "source": [
    "def coordinate_locator(coord_string):\n",
    "    location = geolocator.reverse(coord_string, language = True, addressdetails = False)\n",
    "    if location == None:\n",
    "        return 'Far out man'\n",
    "    else:\n",
    "        return location"
   ]
  },
  {
   "cell_type": "code",
   "execution_count": null,
   "metadata": {},
   "outputs": [],
   "source": [
    "esri_df['Y'] = [str(x) for x in esri_df['Y']]\n",
    "esri_df['X'] = [str(x) for x in esri_df['X']]"
   ]
  },
  {
   "cell_type": "code",
   "execution_count": null,
   "metadata": {},
   "outputs": [],
   "source": [
    "esri_df['coords'] = esri_df['Y'] + ',' + esri_df['X']"
   ]
  },
  {
   "cell_type": "code",
   "execution_count": null,
   "metadata": {},
   "outputs": [],
   "source": [
    "esri_df['coords'][7]"
   ]
  },
  {
   "cell_type": "code",
   "execution_count": null,
   "metadata": {},
   "outputs": [],
   "source": [
    "coordinate_locator('9.999999999769392,-80.00000000044321')"
   ]
  },
  {
   "cell_type": "code",
   "execution_count": null,
   "metadata": {},
   "outputs": [],
   "source": [
    "#Split the dfs\n",
    "esri_df_10 = esri_df.loc[0:11]"
   ]
  },
  {
   "cell_type": "code",
   "execution_count": null,
   "metadata": {},
   "outputs": [],
   "source": [
    "esri_df_10['coords']"
   ]
  },
  {
   "cell_type": "code",
   "execution_count": null,
   "metadata": {},
   "outputs": [],
   "source": [
    "esri_df_1_50['location'] = [coordinate_locator(x) for x in esri_df_1_50['coords']]"
   ]
  },
  {
   "cell_type": "code",
   "execution_count": null,
   "metadata": {},
   "outputs": [],
   "source": []
  }
 ],
 "metadata": {
  "kernelspec": {
   "display_name": "Python 3",
   "language": "python",
   "name": "python3"
  },
  "language_info": {
   "codemirror_mode": {
    "name": "ipython",
    "version": 3
   },
   "file_extension": ".py",
   "mimetype": "text/x-python",
   "name": "python",
   "nbconvert_exporter": "python",
   "pygments_lexer": "ipython3",
   "version": "3.8.5"
  }
 },
 "nbformat": 4,
 "nbformat_minor": 4
}
