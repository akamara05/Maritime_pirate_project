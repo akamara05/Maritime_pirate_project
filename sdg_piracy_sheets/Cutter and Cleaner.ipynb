{
 "cells": [
  {
   "cell_type": "code",
   "execution_count": 1,
   "id": "0e1d739c",
   "metadata": {},
   "outputs": [],
   "source": [
    "import pandas as pd\n",
    "import numpy as np"
   ]
  },
  {
   "cell_type": "code",
   "execution_count": 20,
   "id": "ecf78f03",
   "metadata": {},
   "outputs": [],
   "source": [
    "#to clean a file, place it in the path below. no other code needs to be changed\n",
    "df= pd.read_excel('./excel_data/Goal1.xlsx')"
   ]
  },
  {
   "cell_type": "code",
   "execution_count": 21,
   "id": "bb173562",
   "metadata": {},
   "outputs": [],
   "source": [
    "series_list = df['Indicator'].astype(str).unique().tolist()\n",
    "series_list = ['t'+ series.replace('.', '') for series in series_list]"
   ]
  },
  {
   "cell_type": "code",
   "execution_count": 22,
   "id": "8a369bda",
   "metadata": {},
   "outputs": [],
   "source": [
    "def frame_breaker(df='df', breaker_column='Indicator'):\n",
    "    ind_list = df[breaker_column].astype(str).unique().tolist()\n",
    "    for ind in ind_list:\n",
    "        globals()['t'+ ind.replace('.', '')] = df[(df[breaker_column] == ind)]"
   ]
  },
  {
   "cell_type": "code",
   "execution_count": 23,
   "id": "50da422f",
   "metadata": {},
   "outputs": [],
   "source": [
    "frame_breaker(df)"
   ]
  },
  {
   "cell_type": "code",
   "execution_count": 24,
   "id": "a4a1b276",
   "metadata": {},
   "outputs": [],
   "source": [
    "for series in series_list:\n",
    "    globals()[series].dropna(axis=1, how='all', inplace=True)"
   ]
  },
  {
   "cell_type": "code",
   "execution_count": 25,
   "id": "2c3127f2",
   "metadata": {},
   "outputs": [],
   "source": [
    "for series in series_list:\n",
    "    globals()[series].to_csv('./csv_data/'+ series + '.csv')"
   ]
  },
  {
   "cell_type": "code",
   "execution_count": null,
   "id": "49064117",
   "metadata": {},
   "outputs": [],
   "source": []
  }
 ],
 "metadata": {
  "kernelspec": {
   "display_name": "Python 3 (ipykernel)",
   "language": "python",
   "name": "python3"
  },
  "language_info": {
   "codemirror_mode": {
    "name": "ipython",
    "version": 3
   },
   "file_extension": ".py",
   "mimetype": "text/x-python",
   "name": "python",
   "nbconvert_exporter": "python",
   "pygments_lexer": "ipython3",
   "version": "3.8.10"
  }
 },
 "nbformat": 4,
 "nbformat_minor": 5
}
