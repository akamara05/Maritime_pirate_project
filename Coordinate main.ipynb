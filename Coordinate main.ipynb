{
 "cells": [
  {
   "cell_type": "markdown",
   "metadata": {},
   "source": [
    "This notebook did country identification, cleaning and feature engineering for the pirate attack data."
   ]
  },
  {
   "cell_type": "code",
   "execution_count": 1,
   "metadata": {},
   "outputs": [],
   "source": [
    "import numpy as np\n",
    "import pandas as pd\n",
    "import geopy\n",
    "from geopy.geocoders import Nominatim\n",
    "import time"
   ]
  },
  {
   "cell_type": "code",
   "execution_count": 2,
   "metadata": {},
   "outputs": [],
   "source": [
    "df = pd.read_csv('./datasets/Anti-Shipping_Activity_Messages.csv')\n",
    "df.dropna(inplace = True)"
   ]
  },
  {
   "cell_type": "code",
   "execution_count": 3,
   "metadata": {},
   "outputs": [],
   "source": [
    "df['Y'] = [str(x) for x in df['Y']]\n",
    "df['X'] = [str(x) for x in df['X']]"
   ]
  },
  {
   "cell_type": "code",
   "execution_count": 4,
   "metadata": {},
   "outputs": [],
   "source": [
    "df['coords'] = df['Y'] + ',' + df['X']"
   ]
  },
  {
   "cell_type": "code",
   "execution_count": 5,
   "metadata": {},
   "outputs": [],
   "source": [
    "gloc = Nominatim(user_agent = 'Anything')"
   ]
  },
  {
   "cell_type": "code",
   "execution_count": 6,
   "metadata": {},
   "outputs": [],
   "source": [
    "def closest_country(c):\n",
    "    time.sleep(1)\n",
    "    try:\n",
    "        c = gloc.reverse(c, language = 'en')\n",
    "        return c.raw['address']['country']\n",
    "    except:\n",
    "        return 'International Waters'\n",
    "\n",
    "#https://www.geeksforgeeks.org/get-the-city-state-and-country-names-from-latitude-and-longitude-using-python/"
   ]
  },
  {
   "cell_type": "code",
   "execution_count": 7,
   "metadata": {},
   "outputs": [],
   "source": [
    "# df_locations_1_250 = df['coords'][:250].apply(lambda x: closest_country(x))\n",
    "# df_locations_250_500 = df['coords'][250:500].apply(lambda x: closest_country(x))\n",
    "# df_locations_500_750 = df['coords'][500:750].apply(lambda x: closest_country(x))\n",
    "# df_locations_750_1000 = df['coords'][750:1000].apply(lambda x: closest_country(x))\n",
    "# df_locations_1000_1500 = df['coords'][1000:1500].apply(lambda x: closest_country(x))\n",
    "# df_locations_1500_2500 = df['coords'][1500:2500].apply(lambda x: closest_country(x))\n",
    "# df_locations_2500_end = df['coords'][2500:].apply(lambda x: closest_country(x))\n",
    "# df.to_csv('./datasets/esri_w_country_columns')"
   ]
  },
  {
   "cell_type": "code",
   "execution_count": 8,
   "metadata": {},
   "outputs": [],
   "source": [
    "df = pd.read_csv('./datasets/esri_w_country_columns', index_col=[0])"
   ]
  },
  {
   "cell_type": "code",
   "execution_count": 9,
   "metadata": {},
   "outputs": [],
   "source": [
    "#Breaking into month, year, day and time.\n",
    "df['year'] = [x[0:4] for x in df.dateofocc]\n",
    "df['month'] = [x[5:7] for x in df.dateofocc]\n",
    "df['day'] = [x[8:10] for x in df.dateofocc]\n",
    "df['time'] = [x[11:] for x in df.dateofocc]"
   ]
  },
  {
   "cell_type": "code",
   "execution_count": 10,
   "metadata": {},
   "outputs": [
    {
     "data": {
      "text/plain": [
       "X                  7792\n",
       "Y                  7792\n",
       "OBJECTID           7792\n",
       "reference          7792\n",
       "dateofocc          7792\n",
       "subreg             7792\n",
       "hostility_d        7792\n",
       "victim_d           7792\n",
       "description        7792\n",
       "hostilitytype_l    7792\n",
       "victim_l           7792\n",
       "navarea            7792\n",
       "coords             7792\n",
       "country            7792\n",
       "year               7792\n",
       "month              7792\n",
       "day                7792\n",
       "time               7792\n",
       "dtype: int64"
      ]
     },
     "execution_count": 10,
     "metadata": {},
     "output_type": "execute_result"
    }
   ],
   "source": [
    "df[df['time'] == '00:00:00+00'].count()\n",
    "#most rows are missing 'time'"
   ]
  },
  {
   "cell_type": "code",
   "execution_count": 11,
   "metadata": {},
   "outputs": [],
   "source": [
    "#Dropping time column\n",
    "df.drop(columns = 'time', inplace = True)"
   ]
  },
  {
   "cell_type": "code",
   "execution_count": 12,
   "metadata": {},
   "outputs": [],
   "source": [
    "#Dropping original date of occurence column\n",
    "df.drop(columns = 'dateofocc', inplace = True)"
   ]
  },
  {
   "cell_type": "code",
   "execution_count": 13,
   "metadata": {},
   "outputs": [],
   "source": [
    "#Dropping 'OBJECTID'\n",
    "df.drop(columns = 'OBJECTID', axis = 1, inplace = True)"
   ]
  },
  {
   "cell_type": "code",
   "execution_count": 14,
   "metadata": {},
   "outputs": [],
   "source": [
    "#Lowercase all text\n",
    "for i in df.columns:\n",
    "    if df[i].dtypes == 'O':\n",
    "        df[i] = df[i].str.lower()"
   ]
  },
  {
   "cell_type": "code",
   "execution_count": 15,
   "metadata": {},
   "outputs": [
    {
     "data": {
      "text/plain": [
       "1.0    6971\n",
       "3.0     537\n",
       "4.0     163\n",
       "6.0     124\n",
       "2.0      47\n",
       "5.0      40\n",
       "9.0       6\n",
       "7.0       1\n",
       "Name: hostilitytype_l, dtype: int64"
      ]
     },
     "execution_count": 15,
     "metadata": {},
     "output_type": "execute_result"
    }
   ],
   "source": [
    "df.hostilitytype_l.value_counts()"
   ]
  },
  {
   "cell_type": "code",
   "execution_count": 16,
   "metadata": {},
   "outputs": [],
   "source": [
    "host_lst = ['pirate_assaults', \n",
    "            'navel_engagement', \n",
    "            'suspicious_approach', \n",
    "            'kidnapping', \n",
    "            'unknown', \n",
    "            'other', \n",
    "            'hijacking', \n",
    "            'no entries', \n",
    "            'attempted_boarding']\n",
    "\n",
    "df.hostilitytype_l = [host_lst[int(x) - 1] for x in df.hostilitytype_l]"
   ]
  },
  {
   "cell_type": "code",
   "execution_count": 17,
   "metadata": {},
   "outputs": [],
   "source": [
    "victim_lst = ['anchored_vessel', \n",
    "            'barge', \n",
    "            'cargo_ship', \n",
    "            'fishing_vessel', \n",
    "            'merchant_vessel', \n",
    "            'offshore_vessel', \n",
    "            'passenger_ship', \n",
    "            'sailing_vessel', \n",
    "            'tanker',\n",
    "            'tugboat',\n",
    "            'vessel',\n",
    "            'unknown',\n",
    "            'other']\n",
    "\n",
    "df.victim_l = [victim_lst[int(x) - 1] for x in df.victim_l]"
   ]
  },
  {
   "cell_type": "code",
   "execution_count": 18,
   "metadata": {},
   "outputs": [],
   "source": [
    "#Dummy all categorical columns\n",
    "to_dummy = ['subreg', 'hostilitytype_l', 'victim_l', 'navarea', 'month']\n",
    "\n",
    "for i in to_dummy:\n",
    "    df = pd.concat([df, pd.get_dummies(df[i], prefix = i)], axis=1)\n",
    "#df.drop(columns = to_dummy, axis = 1)"
   ]
  },
  {
   "cell_type": "code",
   "execution_count": 19,
   "metadata": {},
   "outputs": [],
   "source": [
    "#ADD TO CLEANING\n",
    "\n",
    "success_dict = {\n",
    "    'pirate_assaults':1,      \n",
    "    'suspicious_approach':0,  \n",
    "    'kidnapping':1,\n",
    "    'other':0,\n",
    "    'navel_engagement':0, \n",
    "    'unknown':0,\n",
    "    'attempted_boarding':0,\n",
    "    'hijacking':1\n",
    "}\n",
    "\n",
    "\n",
    "\n",
    "df['pirate_success'] = df.hostilitytype_l.map(success_dict)"
   ]
  },
  {
   "cell_type": "code",
   "execution_count": 20,
   "metadata": {},
   "outputs": [],
   "source": [
    "df['year'] = df['year'].astype(int)"
   ]
  },
  {
   "cell_type": "code",
   "execution_count": 21,
   "metadata": {},
   "outputs": [],
   "source": [
    "#Incorporate only observations from 2010 on.\n",
    "df = df[df['year'] >= 2010]"
   ]
  },
  {
   "cell_type": "code",
   "execution_count": 22,
   "metadata": {},
   "outputs": [],
   "source": [
    "df.drop(columns = ['reference', 'hostility_d', 'victim_d', 'description'], inplace = True)"
   ]
  },
  {
   "cell_type": "code",
   "execution_count": 23,
   "metadata": {},
   "outputs": [],
   "source": [
    "countries = ['The Bahamas', 'Indonesia','International Waters', 'Eritrea', 'India', 'Brazil',\n",
    " 'Somalia', 'Ecuador', 'Philippines', 'Malta', 'China', 'Cameroon', 'Sri Lanka','Nicaragua',\n",
    " 'Senegal', 'Bangladesh', 'Vietnam', 'Malaysia', 'Mozambique', 'Guyana', 'Algeria', 'Tanzania',\n",
    " 'Lebanon', 'Visayas', 'Colombia', 'Nigeria', 'Egypt', 'Thailand', 'Russia', 'Guinea',\n",
    " 'Morocco', \"Côte d'Ivoire\", 'Portugal', 'Japan', 'Myanmar', 'Mindanao',\n",
    " 'Dominican Republic', 'Iran', 'Venezuela', 'Ghana', 'Angola', 'Sierra Leone', \n",
    " 'Democratic Republic of the Congo', 'Madagascar', 'Turkey', 'Peru', 'Italy', 'Oman', 'Djibouti',\n",
    " 'North Korea', 'Greece', 'Yemen', 'Taiwan', 'Comoros', 'Papua New Guinea', 'Jamaica', 'Saudi Arabia',\n",
    " 'Netherlands', 'Panama', 'Singapore', 'Kenya', 'France', 'Pakistan', 'United States', 'Gabon',\n",
    " 'Congo-Brazzaville', 'Belgium', 'Brunei', 'Cyprus', 'Haiti', 'Liberia', 'Belize', 'Qatar', 'Solomon Islands',\n",
    " 'Equatorial Guinea', 'Guatemala', 'Fiji', 'South Africa', 'Tunisia', 'Mauritania', 'United Arab Emirates',\n",
    " 'Germany', 'Mexico', 'Montenegro', 'Togo', 'Honduras', 'United Kingdom', 'Benin', 'Trinidad and Tobago',\n",
    " 'Bulgaria', 'Georgia', 'Cuba', 'Iraq', 'Suriname', 'Australia', 'El Salvador', 'Romania', 'Saint Lucia',\n",
    " 'Uruguay', 'British Virgin Islands', 'Saint Vincent and the Grenadines', 'Sudan', 'Dominica',\n",
    " 'Spain', 'Costa Rica', 'Antigua and Barbuda', 'Grenada', 'South Korea', 'Cape Verde', 'Seychelles',\n",
    " 'Libya', 'Cayman Islands', 'Saint Kitts and Nevis']\n",
    "\n",
    "countries = [x.lower() for x in countries]"
   ]
  },
  {
   "cell_type": "code",
   "execution_count": 24,
   "metadata": {},
   "outputs": [],
   "source": [
    "lis = [44, 360, 1, 232, 356, 76, 706, 218, 608, 470, 156, 120, 144, 558, 686, 50, 704, 458, 508, 328, \n",
    "          12, 834, 422, 608, 170, 566, 818, 764, 643, 324, 504, 384, 620, 392, 104, 608, 214, 364, 862, \n",
    "          288, 24, 694, 180, 450, 792, 604, 380, 512, 262, 408, 300, 887, 156, 174, 598, 388, 682, 528,\n",
    "         591, 702, 404, 250, 586, 840, 266, 178, 56, 96, 196, 332, 430, 84, 634, 90, 226, 320, 242, 710, \n",
    "         788, 478, 784, 276, 484, 499, 768, 340, 826, 204, 780, 100, 268, 192, 368, 740, 36, 222, 642, \n",
    "         662, 858, 92, 670, 729, 212, 724, 188, 28, 308, 410, 132, 690, 434, 136, 659]"
   ]
  },
  {
   "cell_type": "code",
   "execution_count": 25,
   "metadata": {},
   "outputs": [],
   "source": [
    "dic = {countries[i]: lis[i] for i in range(len(countries))}"
   ]
  },
  {
   "cell_type": "code",
   "execution_count": 26,
   "metadata": {},
   "outputs": [],
   "source": [
    "df['country_code'] = df['country'].map(dic)"
   ]
  },
  {
   "cell_type": "code",
   "execution_count": 27,
   "metadata": {},
   "outputs": [],
   "source": [
    "df['join_key'] = list(zip(df.country_code, df.year))"
   ]
  },
  {
   "cell_type": "code",
   "execution_count": 28,
   "metadata": {},
   "outputs": [],
   "source": [
    "df.to_csv('./datasets/cleaned_pirate_activity_eda.csv')"
   ]
  }
 ],
 "metadata": {
  "kernelspec": {
   "display_name": "Python 3 (ipykernel)",
   "language": "python",
   "name": "python3"
  },
  "language_info": {
   "codemirror_mode": {
    "name": "ipython",
    "version": 3
   },
   "file_extension": ".py",
   "mimetype": "text/x-python",
   "name": "python",
   "nbconvert_exporter": "python",
   "pygments_lexer": "ipython3",
   "version": "3.8.10"
  }
 },
 "nbformat": 4,
 "nbformat_minor": 4
}
