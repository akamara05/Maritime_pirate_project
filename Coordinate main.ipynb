{
 "cells": [
  {
   "cell_type": "markdown",
   "metadata": {},
   "source": [
    "https://stackoverflow.com/questions/59736682/find-nearest-location-coordinates-in-land-using-python"
   ]
  },
  {
   "cell_type": "code",
   "execution_count": 1,
   "metadata": {},
   "outputs": [],
   "source": [
    "import numpy as np\n",
    "import pandas as pd\n",
    "import geopandas as gp\n",
    "import geopy\n",
    "from geopy.geocoders import Nominatim\n",
    "import time"
   ]
  },
  {
   "cell_type": "code",
   "execution_count": 2,
   "metadata": {},
   "outputs": [],
   "source": [
    "df = pd.read_csv('./datasets/Anti-Shipping_Activity_Messages.csv')\n",
    "df.dropna(inplace = True)"
   ]
  },
  {
   "cell_type": "code",
   "execution_count": 3,
   "metadata": {},
   "outputs": [],
   "source": [
    "df['Y'] = [str(x) for x in df['Y']]\n",
    "df['X'] = [str(x) for x in df['X']]"
   ]
  },
  {
   "cell_type": "code",
   "execution_count": 4,
   "metadata": {},
   "outputs": [],
   "source": [
    "df['coords'] = df['Y'] + ',' + df['X']"
   ]
  },
  {
   "cell_type": "code",
   "execution_count": 5,
   "metadata": {},
   "outputs": [],
   "source": [
    "gloc = Nominatim(user_agent = 'Anything')"
   ]
  },
  {
   "cell_type": "code",
   "execution_count": 6,
   "metadata": {},
   "outputs": [],
   "source": [
    "def closest_country(c):\n",
    "    time.sleep(1)\n",
    "    try:\n",
    "        c = gloc.reverse(c, language = 'en')\n",
    "        return c.raw['address']['country']\n",
    "    except:\n",
    "        return 'International Waters'\n",
    "\n",
    "#https://www.geeksforgeeks.org/get-the-city-state-and-country-names-from-latitude-and-longitude-using-python/"
   ]
  },
  {
   "cell_type": "code",
   "execution_count": 7,
   "metadata": {},
   "outputs": [],
   "source": [
    "# df_locations_1_250 = df['coords'][:250].apply(lambda x: closest_country(x))\n",
    "# df_locations_250_500 = df['coords'][250:500].apply(lambda x: closest_country(x))\n",
    "# df_locations_500_750 = df['coords'][500:750].apply(lambda x: closest_country(x))\n",
    "# df_locations_750_1000 = df['coords'][750:1000].apply(lambda x: closest_country(x))\n",
    "# df_locations_1000_1500 = df['coords'][1000:1500].apply(lambda x: closest_country(x))\n",
    "# df_locations_1500_2500 = df['coords'][1500:2500].apply(lambda x: closest_country(x))\n",
    "# df_locations_2500_end = df['coords'][2500:].apply(lambda x: closest_country(x))\n",
    "# df.to_csv('./datasets/esri_w_country_columns')"
   ]
  },
  {
   "cell_type": "code",
   "execution_count": 8,
   "metadata": {},
   "outputs": [],
   "source": [
    "df = pd.read_csv('./datasets/esri_w_country_columns')"
   ]
  },
  {
   "cell_type": "code",
   "execution_count": null,
   "metadata": {},
   "outputs": [],
   "source": [
    "# poverty = pd.read_csv('./sdg_piracy_sheets/csv_data/t111.csv', index_col =[0]) \n",
    "# land_rights = pd.read_csv('./sdg_piracy_sheets/csv_data/t142.csv', index_col =[0]) \n",
    "# education = pd.read_csv('./sdg_piracy_sheets/csv_data/t411.csv', index_col =[0]) \n",
    "# overfishing = pd.read_csv('./sdg_piracy_sheets/csv_data/t1441.csv', index_col =[0]) \n",
    "# sea_law = pd.read_csv('./sdg_piracy_sheets/csv_data/t14c1.csv', index_col =[0]) "
   ]
  },
  {
   "cell_type": "code",
   "execution_count": null,
   "metadata": {},
   "outputs": [],
   "source": [
    "# land_rights.SeriesDescription.unique()"
   ]
  },
  {
   "cell_type": "code",
   "execution_count": null,
   "metadata": {},
   "outputs": [],
   "source": [
    "# Value based on year/country (keep Series Description)\n",
    "# education.GeoAreaName.value_counts()"
   ]
  },
  {
   "cell_type": "code",
   "execution_count": null,
   "metadata": {},
   "outputs": [],
   "source": [
    "# overfishing.Value"
   ]
  },
  {
   "cell_type": "code",
   "execution_count": null,
   "metadata": {},
   "outputs": [],
   "source": [
    "# sea_law.SeriesDescription.unique()"
   ]
  },
  {
   "cell_type": "code",
   "execution_count": null,
   "metadata": {},
   "outputs": [],
   "source": [
    "# sea_law.shape"
   ]
  },
  {
   "cell_type": "code",
   "execution_count": 9,
   "metadata": {},
   "outputs": [],
   "source": [
    "df.drop(columns = ['Unnamed: 0'], inplace = True)"
   ]
  },
  {
   "cell_type": "code",
   "execution_count": 10,
   "metadata": {},
   "outputs": [],
   "source": [
    "#Breaking into month, year, day and time.\n",
    "df['year'] = [x[0:4] for x in df.dateofocc]\n",
    "df['month'] = [x[5:7] for x in df.dateofocc]\n",
    "df['day'] = [x[8:10] for x in df.dateofocc]\n",
    "df['time'] = [x[11:] for x in df.dateofocc]"
   ]
  },
  {
   "cell_type": "code",
   "execution_count": 11,
   "metadata": {},
   "outputs": [
    {
     "data": {
      "text/plain": [
       "X                  7792\n",
       "Y                  7792\n",
       "OBJECTID           7792\n",
       "reference          7792\n",
       "dateofocc          7792\n",
       "subreg             7792\n",
       "hostility_d        7792\n",
       "victim_d           7792\n",
       "description        7792\n",
       "hostilitytype_l    7792\n",
       "victim_l           7792\n",
       "navarea            7792\n",
       "coords             7792\n",
       "country            7792\n",
       "year               7792\n",
       "month              7792\n",
       "day                7792\n",
       "time               7792\n",
       "dtype: int64"
      ]
     },
     "execution_count": 11,
     "metadata": {},
     "output_type": "execute_result"
    }
   ],
   "source": [
    "df[df['time'] == '00:00:00+00'].count()\n",
    "#most rows are missing 'time'"
   ]
  },
  {
   "cell_type": "code",
   "execution_count": 12,
   "metadata": {},
   "outputs": [],
   "source": [
    "#Dropping time column\n",
    "df.drop(columns = 'time', inplace = True)"
   ]
  },
  {
   "cell_type": "code",
   "execution_count": 13,
   "metadata": {},
   "outputs": [],
   "source": [
    "#Dropping original date of occurence column\n",
    "df.drop(columns = 'dateofocc', inplace = True)"
   ]
  },
  {
   "cell_type": "code",
   "execution_count": 14,
   "metadata": {},
   "outputs": [],
   "source": [
    "#Dropping 'OBJECTID'\n",
    "df.drop(columns = 'OBJECTID', axis = 1, inplace = True)"
   ]
  },
  {
   "cell_type": "code",
   "execution_count": 15,
   "metadata": {},
   "outputs": [],
   "source": [
    "#Lowercase all text\n",
    "for i in df.columns:\n",
    "    if df[i].dtypes == 'O':\n",
    "        df[i] = df[i].str.lower()"
   ]
  },
  {
   "cell_type": "code",
   "execution_count": 16,
   "metadata": {},
   "outputs": [
    {
     "data": {
      "text/plain": [
       "1.0    6971\n",
       "3.0     537\n",
       "4.0     163\n",
       "6.0     124\n",
       "2.0      47\n",
       "5.0      40\n",
       "9.0       6\n",
       "7.0       1\n",
       "Name: hostilitytype_l, dtype: int64"
      ]
     },
     "execution_count": 16,
     "metadata": {},
     "output_type": "execute_result"
    }
   ],
   "source": [
    "df.hostilitytype_l.value_counts()"
   ]
  },
  {
   "cell_type": "code",
   "execution_count": 17,
   "metadata": {},
   "outputs": [],
   "source": [
    "host_lst = ['pirate_assaults', \n",
    "            'navel_engagement', \n",
    "            'suspicious_approach', \n",
    "            'kidnapping', \n",
    "            'unknown', \n",
    "            'other', \n",
    "            'hijacking', \n",
    "            'no entries', \n",
    "            'attempted_boarding']\n",
    "\n",
    "df.hostilitytype_l = [host_lst[int(x) - 1] for x in df.hostilitytype_l]"
   ]
  },
  {
   "cell_type": "code",
   "execution_count": 18,
   "metadata": {},
   "outputs": [],
   "source": [
    "victim_lst = ['anchored_vessel', \n",
    "            'barge', \n",
    "            'cargo_ship', \n",
    "            'fishing_vessel', \n",
    "            'merchant_vessel', \n",
    "            'offshore_vessel', \n",
    "            'passenger_ship', \n",
    "            'sailing_vessel', \n",
    "            'tanker',\n",
    "            'tugboat',\n",
    "            'vessel',\n",
    "            'unknown',\n",
    "            'other']\n",
    "\n",
    "df.victim_l = [victim_lst[int(x) - 1] for x in df.victim_l]"
   ]
  },
  {
   "cell_type": "code",
   "execution_count": 19,
   "metadata": {},
   "outputs": [],
   "source": [
    "#Dummy all categorical columns\n",
    "to_dummy = ['subreg', 'hostilitytype_l', 'victim_l', 'navarea', 'month']\n",
    "\n",
    "for i in to_dummy:\n",
    "    df = pd.concat([df, pd.get_dummies(df[i], prefix = i)], axis=1)\n",
    "#df.drop(columns = to_dummy, axis = 1)"
   ]
  },
  {
   "cell_type": "code",
   "execution_count": 20,
   "metadata": {},
   "outputs": [],
   "source": [
    "#ADD TO CLEANING\n",
    "\n",
    "success_dict = {\n",
    "    'pirate_assaults':1,      \n",
    "    'suspicious_approach':0,  \n",
    "    'kidnapping':1,\n",
    "    'other':0,\n",
    "    'navel_engagement':0, \n",
    "    'unknown':0,\n",
    "    'attempted_boarding':0,\n",
    "    'hijacking':1\n",
    "}\n",
    "\n",
    "\n",
    "\n",
    "df['pirate_success'] = df.hostilitytype_l.map(success_dict)"
   ]
  },
  {
   "cell_type": "code",
   "execution_count": 30,
   "metadata": {},
   "outputs": [],
   "source": [
    "df['year'] = df['year'].astype(int)"
   ]
  },
  {
   "cell_type": "code",
   "execution_count": 31,
   "metadata": {},
   "outputs": [],
   "source": [
    "#Incorporate only observations from 2010 on.\n",
    "df = df[df['year'] >= 2010]"
   ]
  },
  {
   "cell_type": "code",
   "execution_count": 41,
   "metadata": {},
   "outputs": [],
   "source": [
    "df.drop(columns = ['reference', 'hostility_d', 'victim_d', 'description'], inplace = True)"
   ]
  },
  {
   "cell_type": "code",
   "execution_count": 43,
   "metadata": {},
   "outputs": [
    {
     "data": {
      "text/plain": [
       "(3278, 100)"
      ]
     },
     "execution_count": 43,
     "metadata": {},
     "output_type": "execute_result"
    }
   ],
   "source": [
    "df.shape"
   ]
  },
  {
   "cell_type": "code",
   "execution_count": 45,
   "metadata": {},
   "outputs": [],
   "source": [
    "poverty = pd.read_csv('./datasets/poverty.csv')"
   ]
  },
  {
   "cell_type": "code",
   "execution_count": 48,
   "metadata": {},
   "outputs": [],
   "source": [
    "#BRING TO BOTTOM OF PAGE\n",
    "\n",
    "# df.to_csv('./datasets/cleaned_pirate_activity_eda.csv')\n",
    "# df = pd.read_csv('./datasets/cleaned_pirate_activity_eda.csv', index_col=0)\n",
    "# df.head()"
   ]
  },
  {
   "cell_type": "code",
   "execution_count": 47,
   "metadata": {},
   "outputs": [
    {
     "data": {
      "text/html": [
       "<div>\n",
       "<style scoped>\n",
       "    .dataframe tbody tr th:only-of-type {\n",
       "        vertical-align: middle;\n",
       "    }\n",
       "\n",
       "    .dataframe tbody tr th {\n",
       "        vertical-align: top;\n",
       "    }\n",
       "\n",
       "    .dataframe thead th {\n",
       "        text-align: right;\n",
       "    }\n",
       "</style>\n",
       "<table border=\"1\" class=\"dataframe\">\n",
       "  <thead>\n",
       "    <tr style=\"text-align: right;\">\n",
       "      <th></th>\n",
       "      <th>X</th>\n",
       "      <th>Y</th>\n",
       "      <th>subreg</th>\n",
       "      <th>hostilitytype_l</th>\n",
       "      <th>victim_l</th>\n",
       "      <th>navarea</th>\n",
       "      <th>coords</th>\n",
       "      <th>country</th>\n",
       "      <th>year</th>\n",
       "      <th>month</th>\n",
       "      <th>...</th>\n",
       "      <th>month_04</th>\n",
       "      <th>month_05</th>\n",
       "      <th>month_06</th>\n",
       "      <th>month_07</th>\n",
       "      <th>month_08</th>\n",
       "      <th>month_09</th>\n",
       "      <th>month_10</th>\n",
       "      <th>month_11</th>\n",
       "      <th>month_12</th>\n",
       "      <th>pirate_success</th>\n",
       "    </tr>\n",
       "  </thead>\n",
       "  <tbody>\n",
       "    <tr>\n",
       "      <th>32</th>\n",
       "      <td>112.000000</td>\n",
       "      <td>16.500000</td>\n",
       "      <td>93</td>\n",
       "      <td>pirate_assaults</td>\n",
       "      <td>fishing_vessel</td>\n",
       "      <td>xi</td>\n",
       "      <td>16.500000000429303,112.00000000037</td>\n",
       "      <td>china</td>\n",
       "      <td>2015</td>\n",
       "      <td>7</td>\n",
       "      <td>...</td>\n",
       "      <td>0</td>\n",
       "      <td>0</td>\n",
       "      <td>0</td>\n",
       "      <td>1</td>\n",
       "      <td>0</td>\n",
       "      <td>0</td>\n",
       "      <td>0</td>\n",
       "      <td>0</td>\n",
       "      <td>0</td>\n",
       "      <td>1</td>\n",
       "    </tr>\n",
       "    <tr>\n",
       "      <th>33</th>\n",
       "      <td>70.216667</td>\n",
       "      <td>23.016667</td>\n",
       "      <td>63</td>\n",
       "      <td>pirate_assaults</td>\n",
       "      <td>tanker</td>\n",
       "      <td>viii</td>\n",
       "      <td>23.016666700086898,70.2166667001745</td>\n",
       "      <td>india</td>\n",
       "      <td>2015</td>\n",
       "      <td>7</td>\n",
       "      <td>...</td>\n",
       "      <td>0</td>\n",
       "      <td>0</td>\n",
       "      <td>0</td>\n",
       "      <td>1</td>\n",
       "      <td>0</td>\n",
       "      <td>0</td>\n",
       "      <td>0</td>\n",
       "      <td>0</td>\n",
       "      <td>0</td>\n",
       "      <td>1</td>\n",
       "    </tr>\n",
       "    <tr>\n",
       "      <th>34</th>\n",
       "      <td>70.216667</td>\n",
       "      <td>23.016667</td>\n",
       "      <td>63</td>\n",
       "      <td>pirate_assaults</td>\n",
       "      <td>tanker</td>\n",
       "      <td>viii</td>\n",
       "      <td>23.016666700086898,70.2166667001745</td>\n",
       "      <td>india</td>\n",
       "      <td>2015</td>\n",
       "      <td>7</td>\n",
       "      <td>...</td>\n",
       "      <td>0</td>\n",
       "      <td>0</td>\n",
       "      <td>0</td>\n",
       "      <td>1</td>\n",
       "      <td>0</td>\n",
       "      <td>0</td>\n",
       "      <td>0</td>\n",
       "      <td>0</td>\n",
       "      <td>0</td>\n",
       "      <td>1</td>\n",
       "    </tr>\n",
       "    <tr>\n",
       "      <th>35</th>\n",
       "      <td>101.983333</td>\n",
       "      <td>2.050000</td>\n",
       "      <td>71</td>\n",
       "      <td>pirate_assaults</td>\n",
       "      <td>tanker</td>\n",
       "      <td>xi</td>\n",
       "      <td>2.05000000027673,101.98333330015</td>\n",
       "      <td>indonesia</td>\n",
       "      <td>2015</td>\n",
       "      <td>8</td>\n",
       "      <td>...</td>\n",
       "      <td>0</td>\n",
       "      <td>0</td>\n",
       "      <td>0</td>\n",
       "      <td>0</td>\n",
       "      <td>1</td>\n",
       "      <td>0</td>\n",
       "      <td>0</td>\n",
       "      <td>0</td>\n",
       "      <td>0</td>\n",
       "      <td>1</td>\n",
       "    </tr>\n",
       "    <tr>\n",
       "      <th>36</th>\n",
       "      <td>103.566667</td>\n",
       "      <td>1.100000</td>\n",
       "      <td>71</td>\n",
       "      <td>pirate_assaults</td>\n",
       "      <td>cargo_ship</td>\n",
       "      <td>xi</td>\n",
       "      <td>1.1000000001110901,103.56666670030899</td>\n",
       "      <td>indonesia</td>\n",
       "      <td>2015</td>\n",
       "      <td>8</td>\n",
       "      <td>...</td>\n",
       "      <td>0</td>\n",
       "      <td>0</td>\n",
       "      <td>0</td>\n",
       "      <td>0</td>\n",
       "      <td>1</td>\n",
       "      <td>0</td>\n",
       "      <td>0</td>\n",
       "      <td>0</td>\n",
       "      <td>0</td>\n",
       "      <td>1</td>\n",
       "    </tr>\n",
       "  </tbody>\n",
       "</table>\n",
       "<p>5 rows × 100 columns</p>\n",
       "</div>"
      ],
      "text/plain": [
       "             X          Y  subreg  hostilitytype_l        victim_l navarea  \\\n",
       "32  112.000000  16.500000      93  pirate_assaults  fishing_vessel      xi   \n",
       "33   70.216667  23.016667      63  pirate_assaults          tanker    viii   \n",
       "34   70.216667  23.016667      63  pirate_assaults          tanker    viii   \n",
       "35  101.983333   2.050000      71  pirate_assaults          tanker      xi   \n",
       "36  103.566667   1.100000      71  pirate_assaults      cargo_ship      xi   \n",
       "\n",
       "                                   coords    country  year  month  ...  \\\n",
       "32     16.500000000429303,112.00000000037      china  2015      7  ...   \n",
       "33    23.016666700086898,70.2166667001745      india  2015      7  ...   \n",
       "34    23.016666700086898,70.2166667001745      india  2015      7  ...   \n",
       "35       2.05000000027673,101.98333330015  indonesia  2015      8  ...   \n",
       "36  1.1000000001110901,103.56666670030899  indonesia  2015      8  ...   \n",
       "\n",
       "    month_04  month_05  month_06  month_07  month_08  month_09  month_10  \\\n",
       "32         0         0         0         1         0         0         0   \n",
       "33         0         0         0         1         0         0         0   \n",
       "34         0         0         0         1         0         0         0   \n",
       "35         0         0         0         0         1         0         0   \n",
       "36         0         0         0         0         1         0         0   \n",
       "\n",
       "    month_11  month_12  pirate_success  \n",
       "32         0         0               1  \n",
       "33         0         0               1  \n",
       "34         0         0               1  \n",
       "35         0         0               1  \n",
       "36         0         0               1  \n",
       "\n",
       "[5 rows x 100 columns]"
      ]
     },
     "execution_count": 47,
     "metadata": {},
     "output_type": "execute_result"
    }
   ],
   "source": [
    "df.head()"
   ]
  },
  {
   "cell_type": "code",
   "execution_count": 50,
   "metadata": {},
   "outputs": [],
   "source": [
    "countries = ['The Bahamas', 'Indonesia','International Waters', 'Eritrea', 'India', 'Brazil',\n",
    " 'Somalia', 'Ecuador', 'Philippines', 'Malta', 'China', 'Cameroon', 'Sri Lanka','Nicaragua',\n",
    " 'Senegal', 'Bangladesh', 'Vietnam', 'Malaysia', 'Mozambique', 'Guyana', 'Algeria', 'Tanzania',\n",
    " 'Lebanon', 'Visayas', 'Colombia', 'Nigeria', 'Egypt', 'Thailand', 'Russia', 'Guinea',\n",
    " 'Morocco', \"Côte d'Ivoire\", 'Portugal', 'Japan', 'Myanmar', 'Mindanao',\n",
    " 'Dominican Republic', 'Iran', 'Venezuela', 'Ghana', 'Angola', 'Sierra Leone', \n",
    " 'Democratic Republic of the Congo', 'Madagascar', 'Turkey', 'Peru', 'Italy', 'Oman', 'Djibouti',\n",
    " 'North Korea', 'Greece', 'Yemen', 'Taiwan', 'Comoros', 'Papua New Guinea', 'Jamaica', 'Saudi Arabia',\n",
    " 'Netherlands', 'Panama', 'Singapore', 'Kenya', 'France', 'Pakistan', 'United States', 'Gabon',\n",
    " 'Congo-Brazzaville', 'Belgium', 'Brunei', 'Cyprus', 'Haiti', 'Liberia', 'Belize', 'Qatar', 'Solomon Islands',\n",
    " 'Equatorial Guinea', 'Guatemala', 'Fiji', 'South Africa', 'Tunisia', 'Mauritania', 'United Arab Emirates',\n",
    " 'Germany', 'Mexico', 'Montenegro', 'Togo', 'Honduras', 'United Kingdom', 'Benin', 'Trinidad and Tobago',\n",
    " 'Bulgaria', 'Georgia', 'Cuba', 'Iraq', 'Suriname', 'Australia', 'El Salvador', 'Romania', 'Saint Lucia',\n",
    " 'Uruguay', 'British Virgin Islands', 'Saint Vincent and the Grenadines', 'Sudan', 'Dominica',\n",
    " 'Spain', 'Costa Rica', 'Antigua and Barbuda', 'Grenada', 'South Korea', 'Cape Verde', 'Seychelles',\n",
    " 'Libya', 'Cayman Islands', 'Saint Kitts and Nevis']\n",
    "\n",
    "countries = [x.lower() for x in countries]"
   ]
  },
  {
   "cell_type": "code",
   "execution_count": 53,
   "metadata": {},
   "outputs": [],
   "source": [
    "lis = [44, 360, 1, 232, 356, 76, 706, 218, 608, 470, 156, 120, 144, 558, 686, 50, 704, 458, 508, 328, \n",
    "          12, 834, 422, 608, 170, 566, 818, 764, 643, 324, 504, 384, 620, 392, 104, 608, 214, 364, 862, \n",
    "          288, 24, 694, 180, 450, 792, 604, 380, 512, 262, 408, 300, 887, 156, 174, 598, 388, 682, 528,\n",
    "         591, 702, 404, 250, 586, 840, 266, 178, 56, 96, 196, 332, 430, 84, 634, 90, 226, 320, 242, 710, \n",
    "         788, 478, 784, 276, 484, 499, 768, 340, 826, 204, 780, 100, 268, 192, 368, 740, 36, 222, 642, \n",
    "         662, 858, 92, 670, 729, 212, 724, 188, 28, 308, 410, 132, 690, 434, 136, 659]"
   ]
  },
  {
   "cell_type": "code",
   "execution_count": 54,
   "metadata": {},
   "outputs": [],
   "source": [
    "dic = {countries[i]: lis[i] for i in range(len(countries))}"
   ]
  },
  {
   "cell_type": "code",
   "execution_count": 56,
   "metadata": {},
   "outputs": [],
   "source": [
    "df['country_code'] = df['country'].map(dic)"
   ]
  },
  {
   "cell_type": "code",
   "execution_count": 57,
   "metadata": {},
   "outputs": [
    {
     "data": {
      "text/plain": [
       "32      156\n",
       "33      356\n",
       "34      356\n",
       "35      360\n",
       "36      360\n",
       "       ... \n",
       "7884    608\n",
       "7885     24\n",
       "7886    360\n",
       "7887    608\n",
       "7888      1\n",
       "Name: country_code, Length: 3278, dtype: int64"
      ]
     },
     "execution_count": 57,
     "metadata": {},
     "output_type": "execute_result"
    }
   ],
   "source": [
    "df['country_code']"
   ]
  },
  {
   "cell_type": "code",
   "execution_count": 58,
   "metadata": {},
   "outputs": [
    {
     "data": {
      "text/html": [
       "<div>\n",
       "<style scoped>\n",
       "    .dataframe tbody tr th:only-of-type {\n",
       "        vertical-align: middle;\n",
       "    }\n",
       "\n",
       "    .dataframe tbody tr th {\n",
       "        vertical-align: top;\n",
       "    }\n",
       "\n",
       "    .dataframe thead th {\n",
       "        text-align: right;\n",
       "    }\n",
       "</style>\n",
       "<table border=\"1\" class=\"dataframe\">\n",
       "  <thead>\n",
       "    <tr style=\"text-align: right;\">\n",
       "      <th></th>\n",
       "      <th>X</th>\n",
       "      <th>Y</th>\n",
       "      <th>subreg</th>\n",
       "      <th>hostilitytype_l</th>\n",
       "      <th>victim_l</th>\n",
       "      <th>navarea</th>\n",
       "      <th>coords</th>\n",
       "      <th>country</th>\n",
       "      <th>year</th>\n",
       "      <th>month</th>\n",
       "      <th>...</th>\n",
       "      <th>month_05</th>\n",
       "      <th>month_06</th>\n",
       "      <th>month_07</th>\n",
       "      <th>month_08</th>\n",
       "      <th>month_09</th>\n",
       "      <th>month_10</th>\n",
       "      <th>month_11</th>\n",
       "      <th>month_12</th>\n",
       "      <th>pirate_success</th>\n",
       "      <th>country_code</th>\n",
       "    </tr>\n",
       "  </thead>\n",
       "  <tbody>\n",
       "    <tr>\n",
       "      <th>32</th>\n",
       "      <td>112.000000</td>\n",
       "      <td>16.500000</td>\n",
       "      <td>93</td>\n",
       "      <td>pirate_assaults</td>\n",
       "      <td>fishing_vessel</td>\n",
       "      <td>xi</td>\n",
       "      <td>16.500000000429303,112.00000000037</td>\n",
       "      <td>china</td>\n",
       "      <td>2015</td>\n",
       "      <td>7</td>\n",
       "      <td>...</td>\n",
       "      <td>0</td>\n",
       "      <td>0</td>\n",
       "      <td>1</td>\n",
       "      <td>0</td>\n",
       "      <td>0</td>\n",
       "      <td>0</td>\n",
       "      <td>0</td>\n",
       "      <td>0</td>\n",
       "      <td>1</td>\n",
       "      <td>156</td>\n",
       "    </tr>\n",
       "    <tr>\n",
       "      <th>33</th>\n",
       "      <td>70.216667</td>\n",
       "      <td>23.016667</td>\n",
       "      <td>63</td>\n",
       "      <td>pirate_assaults</td>\n",
       "      <td>tanker</td>\n",
       "      <td>viii</td>\n",
       "      <td>23.016666700086898,70.2166667001745</td>\n",
       "      <td>india</td>\n",
       "      <td>2015</td>\n",
       "      <td>7</td>\n",
       "      <td>...</td>\n",
       "      <td>0</td>\n",
       "      <td>0</td>\n",
       "      <td>1</td>\n",
       "      <td>0</td>\n",
       "      <td>0</td>\n",
       "      <td>0</td>\n",
       "      <td>0</td>\n",
       "      <td>0</td>\n",
       "      <td>1</td>\n",
       "      <td>356</td>\n",
       "    </tr>\n",
       "    <tr>\n",
       "      <th>34</th>\n",
       "      <td>70.216667</td>\n",
       "      <td>23.016667</td>\n",
       "      <td>63</td>\n",
       "      <td>pirate_assaults</td>\n",
       "      <td>tanker</td>\n",
       "      <td>viii</td>\n",
       "      <td>23.016666700086898,70.2166667001745</td>\n",
       "      <td>india</td>\n",
       "      <td>2015</td>\n",
       "      <td>7</td>\n",
       "      <td>...</td>\n",
       "      <td>0</td>\n",
       "      <td>0</td>\n",
       "      <td>1</td>\n",
       "      <td>0</td>\n",
       "      <td>0</td>\n",
       "      <td>0</td>\n",
       "      <td>0</td>\n",
       "      <td>0</td>\n",
       "      <td>1</td>\n",
       "      <td>356</td>\n",
       "    </tr>\n",
       "    <tr>\n",
       "      <th>35</th>\n",
       "      <td>101.983333</td>\n",
       "      <td>2.050000</td>\n",
       "      <td>71</td>\n",
       "      <td>pirate_assaults</td>\n",
       "      <td>tanker</td>\n",
       "      <td>xi</td>\n",
       "      <td>2.05000000027673,101.98333330015</td>\n",
       "      <td>indonesia</td>\n",
       "      <td>2015</td>\n",
       "      <td>8</td>\n",
       "      <td>...</td>\n",
       "      <td>0</td>\n",
       "      <td>0</td>\n",
       "      <td>0</td>\n",
       "      <td>1</td>\n",
       "      <td>0</td>\n",
       "      <td>0</td>\n",
       "      <td>0</td>\n",
       "      <td>0</td>\n",
       "      <td>1</td>\n",
       "      <td>360</td>\n",
       "    </tr>\n",
       "    <tr>\n",
       "      <th>36</th>\n",
       "      <td>103.566667</td>\n",
       "      <td>1.100000</td>\n",
       "      <td>71</td>\n",
       "      <td>pirate_assaults</td>\n",
       "      <td>cargo_ship</td>\n",
       "      <td>xi</td>\n",
       "      <td>1.1000000001110901,103.56666670030899</td>\n",
       "      <td>indonesia</td>\n",
       "      <td>2015</td>\n",
       "      <td>8</td>\n",
       "      <td>...</td>\n",
       "      <td>0</td>\n",
       "      <td>0</td>\n",
       "      <td>0</td>\n",
       "      <td>1</td>\n",
       "      <td>0</td>\n",
       "      <td>0</td>\n",
       "      <td>0</td>\n",
       "      <td>0</td>\n",
       "      <td>1</td>\n",
       "      <td>360</td>\n",
       "    </tr>\n",
       "  </tbody>\n",
       "</table>\n",
       "<p>5 rows × 101 columns</p>\n",
       "</div>"
      ],
      "text/plain": [
       "             X          Y  subreg  hostilitytype_l        victim_l navarea  \\\n",
       "32  112.000000  16.500000      93  pirate_assaults  fishing_vessel      xi   \n",
       "33   70.216667  23.016667      63  pirate_assaults          tanker    viii   \n",
       "34   70.216667  23.016667      63  pirate_assaults          tanker    viii   \n",
       "35  101.983333   2.050000      71  pirate_assaults          tanker      xi   \n",
       "36  103.566667   1.100000      71  pirate_assaults      cargo_ship      xi   \n",
       "\n",
       "                                   coords    country  year  month  ...  \\\n",
       "32     16.500000000429303,112.00000000037      china  2015      7  ...   \n",
       "33    23.016666700086898,70.2166667001745      india  2015      7  ...   \n",
       "34    23.016666700086898,70.2166667001745      india  2015      7  ...   \n",
       "35       2.05000000027673,101.98333330015  indonesia  2015      8  ...   \n",
       "36  1.1000000001110901,103.56666670030899  indonesia  2015      8  ...   \n",
       "\n",
       "    month_05  month_06  month_07  month_08  month_09  month_10  month_11  \\\n",
       "32         0         0         1         0         0         0         0   \n",
       "33         0         0         1         0         0         0         0   \n",
       "34         0         0         1         0         0         0         0   \n",
       "35         0         0         0         1         0         0         0   \n",
       "36         0         0         0         1         0         0         0   \n",
       "\n",
       "    month_12  pirate_success  country_code  \n",
       "32         0               1           156  \n",
       "33         0               1           356  \n",
       "34         0               1           356  \n",
       "35         0               1           360  \n",
       "36         0               1           360  \n",
       "\n",
       "[5 rows x 101 columns]"
      ]
     },
     "execution_count": 58,
     "metadata": {},
     "output_type": "execute_result"
    }
   ],
   "source": [
    "df.head()"
   ]
  },
  {
   "cell_type": "code",
   "execution_count": 63,
   "metadata": {},
   "outputs": [
    {
     "data": {
      "text/html": [
       "<div>\n",
       "<style scoped>\n",
       "    .dataframe tbody tr th:only-of-type {\n",
       "        vertical-align: middle;\n",
       "    }\n",
       "\n",
       "    .dataframe tbody tr th {\n",
       "        vertical-align: top;\n",
       "    }\n",
       "\n",
       "    .dataframe thead th {\n",
       "        text-align: right;\n",
       "    }\n",
       "</style>\n",
       "<table border=\"1\" class=\"dataframe\">\n",
       "  <thead>\n",
       "    <tr style=\"text-align: right;\">\n",
       "      <th></th>\n",
       "      <th>Unnamed: 0</th>\n",
       "      <th>TimePeriod</th>\n",
       "      <th>Indicator</th>\n",
       "      <th>GeoAreaCode</th>\n",
       "      <th>GeoAreaName</th>\n",
       "      <th>poverty_percentage</th>\n",
       "    </tr>\n",
       "  </thead>\n",
       "  <tbody>\n",
       "    <tr>\n",
       "      <th>0</th>\n",
       "      <td>10</td>\n",
       "      <td>2010</td>\n",
       "      <td>1.1.1</td>\n",
       "      <td>1.0</td>\n",
       "      <td>World</td>\n",
       "      <td>16.0</td>\n",
       "    </tr>\n",
       "    <tr>\n",
       "      <th>1</th>\n",
       "      <td>11</td>\n",
       "      <td>2011</td>\n",
       "      <td>1.1.1</td>\n",
       "      <td>1.0</td>\n",
       "      <td>World</td>\n",
       "      <td>13.9</td>\n",
       "    </tr>\n",
       "    <tr>\n",
       "      <th>2</th>\n",
       "      <td>12</td>\n",
       "      <td>2012</td>\n",
       "      <td>1.1.1</td>\n",
       "      <td>1.0</td>\n",
       "      <td>World</td>\n",
       "      <td>12.9</td>\n",
       "    </tr>\n",
       "    <tr>\n",
       "      <th>3</th>\n",
       "      <td>13</td>\n",
       "      <td>2013</td>\n",
       "      <td>1.1.1</td>\n",
       "      <td>1.0</td>\n",
       "      <td>World</td>\n",
       "      <td>11.4</td>\n",
       "    </tr>\n",
       "    <tr>\n",
       "      <th>4</th>\n",
       "      <td>14</td>\n",
       "      <td>2014</td>\n",
       "      <td>1.1.1</td>\n",
       "      <td>1.0</td>\n",
       "      <td>World</td>\n",
       "      <td>10.7</td>\n",
       "    </tr>\n",
       "    <tr>\n",
       "      <th>...</th>\n",
       "      <td>...</td>\n",
       "      <td>...</td>\n",
       "      <td>...</td>\n",
       "      <td>...</td>\n",
       "      <td>...</td>\n",
       "      <td>...</td>\n",
       "    </tr>\n",
       "    <tr>\n",
       "      <th>2408</th>\n",
       "      <td>4483</td>\n",
       "      <td>2017</td>\n",
       "      <td>1.1.1</td>\n",
       "      <td>894.0</td>\n",
       "      <td>Zambia</td>\n",
       "      <td>58.7</td>\n",
       "    </tr>\n",
       "    <tr>\n",
       "      <th>2409</th>\n",
       "      <td>4484</td>\n",
       "      <td>2018</td>\n",
       "      <td>1.1.1</td>\n",
       "      <td>894.0</td>\n",
       "      <td>Zambia</td>\n",
       "      <td>58.7</td>\n",
       "    </tr>\n",
       "    <tr>\n",
       "      <th>2410</th>\n",
       "      <td>4485</td>\n",
       "      <td>2019</td>\n",
       "      <td>1.1.1</td>\n",
       "      <td>894.0</td>\n",
       "      <td>Zambia</td>\n",
       "      <td>58.7</td>\n",
       "    </tr>\n",
       "    <tr>\n",
       "      <th>2411</th>\n",
       "      <td>4486</td>\n",
       "      <td>2020</td>\n",
       "      <td>1.1.1</td>\n",
       "      <td>894.0</td>\n",
       "      <td>Zambia</td>\n",
       "      <td>58.7</td>\n",
       "    </tr>\n",
       "    <tr>\n",
       "      <th>2412</th>\n",
       "      <td>4487</td>\n",
       "      <td>2021</td>\n",
       "      <td>1.1.1</td>\n",
       "      <td>894.0</td>\n",
       "      <td>Zambia</td>\n",
       "      <td>58.7</td>\n",
       "    </tr>\n",
       "  </tbody>\n",
       "</table>\n",
       "<p>2413 rows × 6 columns</p>\n",
       "</div>"
      ],
      "text/plain": [
       "      Unnamed: 0  TimePeriod Indicator  GeoAreaCode GeoAreaName  \\\n",
       "0             10        2010     1.1.1          1.0       World   \n",
       "1             11        2011     1.1.1          1.0       World   \n",
       "2             12        2012     1.1.1          1.0       World   \n",
       "3             13        2013     1.1.1          1.0       World   \n",
       "4             14        2014     1.1.1          1.0       World   \n",
       "...          ...         ...       ...          ...         ...   \n",
       "2408        4483        2017     1.1.1        894.0      Zambia   \n",
       "2409        4484        2018     1.1.1        894.0      Zambia   \n",
       "2410        4485        2019     1.1.1        894.0      Zambia   \n",
       "2411        4486        2020     1.1.1        894.0      Zambia   \n",
       "2412        4487        2021     1.1.1        894.0      Zambia   \n",
       "\n",
       "      poverty_percentage  \n",
       "0                   16.0  \n",
       "1                   13.9  \n",
       "2                   12.9  \n",
       "3                   11.4  \n",
       "4                   10.7  \n",
       "...                  ...  \n",
       "2408                58.7  \n",
       "2409                58.7  \n",
       "2410                58.7  \n",
       "2411                58.7  \n",
       "2412                58.7  \n",
       "\n",
       "[2413 rows x 6 columns]"
      ]
     },
     "execution_count": 63,
     "metadata": {},
     "output_type": "execute_result"
    }
   ],
   "source": [
    "poverty"
   ]
  },
  {
   "cell_type": "code",
   "execution_count": 68,
   "metadata": {},
   "outputs": [],
   "source": [
    "poverty.rename(columns = {'GeoAreaCode':'country_code', 'TimePeriod': 'year'}, inplace = True)"
   ]
  },
  {
   "cell_type": "code",
   "execution_count": 72,
   "metadata": {},
   "outputs": [
    {
     "ename": "ValueError",
     "evalue": "Can only compare identically-labeled Series objects",
     "output_type": "error",
     "traceback": [
      "\u001b[0;31m---------------------------------------------------------------------------\u001b[0m",
      "\u001b[0;31mValueError\u001b[0m                                Traceback (most recent call last)",
      "\u001b[0;32m<ipython-input-72-cabba715100e>\u001b[0m in \u001b[0;36m<module>\u001b[0;34m\u001b[0m\n\u001b[1;32m      1\u001b[0m \u001b[0;31m#df1['pricesMatch?'] = np.where(df1['Price1'] == df2['Price2'], 'True', 'False')\u001b[0m\u001b[0;34m\u001b[0m\u001b[0;34m\u001b[0m\u001b[0;34m\u001b[0m\u001b[0m\n\u001b[1;32m      2\u001b[0m \u001b[0;34m\u001b[0m\u001b[0m\n\u001b[0;32m----> 3\u001b[0;31m \u001b[0mdf\u001b[0m\u001b[0;34m[\u001b[0m\u001b[0;34m'poverty'\u001b[0m\u001b[0;34m]\u001b[0m \u001b[0;34m=\u001b[0m \u001b[0mnp\u001b[0m\u001b[0;34m.\u001b[0m\u001b[0mwhere\u001b[0m\u001b[0;34m(\u001b[0m\u001b[0mpoverty\u001b[0m\u001b[0;34m[\u001b[0m\u001b[0;34m'country_code'\u001b[0m\u001b[0;34m]\u001b[0m  \u001b[0;34m==\u001b[0m \u001b[0mdf\u001b[0m\u001b[0;34m[\u001b[0m\u001b[0;34m'country_code'\u001b[0m\u001b[0;34m]\u001b[0m  \u001b[0;32mand\u001b[0m \u001b[0mdf\u001b[0m\u001b[0;34m[\u001b[0m\u001b[0;34m'year'\u001b[0m\u001b[0;34m]\u001b[0m \u001b[0;34m==\u001b[0m \u001b[0mpoverty\u001b[0m\u001b[0;34m[\u001b[0m\u001b[0;34m'year'\u001b[0m\u001b[0;34m]\u001b[0m\u001b[0;34m,\u001b[0m \u001b[0mpoverty\u001b[0m\u001b[0;34m[\u001b[0m\u001b[0;34m'poverty_percentage'\u001b[0m\u001b[0;34m]\u001b[0m\u001b[0;34m)\u001b[0m\u001b[0;34m\u001b[0m\u001b[0;34m\u001b[0m\u001b[0m\n\u001b[0m",
      "\u001b[0;32m~/opt/anaconda3/lib/python3.8/site-packages/pandas/core/ops/common.py\u001b[0m in \u001b[0;36mnew_method\u001b[0;34m(self, other)\u001b[0m\n\u001b[1;32m     63\u001b[0m         \u001b[0mother\u001b[0m \u001b[0;34m=\u001b[0m \u001b[0mitem_from_zerodim\u001b[0m\u001b[0;34m(\u001b[0m\u001b[0mother\u001b[0m\u001b[0;34m)\u001b[0m\u001b[0;34m\u001b[0m\u001b[0;34m\u001b[0m\u001b[0m\n\u001b[1;32m     64\u001b[0m \u001b[0;34m\u001b[0m\u001b[0m\n\u001b[0;32m---> 65\u001b[0;31m         \u001b[0;32mreturn\u001b[0m \u001b[0mmethod\u001b[0m\u001b[0;34m(\u001b[0m\u001b[0mself\u001b[0m\u001b[0;34m,\u001b[0m \u001b[0mother\u001b[0m\u001b[0;34m)\u001b[0m\u001b[0;34m\u001b[0m\u001b[0;34m\u001b[0m\u001b[0m\n\u001b[0m\u001b[1;32m     66\u001b[0m \u001b[0;34m\u001b[0m\u001b[0m\n\u001b[1;32m     67\u001b[0m     \u001b[0;32mreturn\u001b[0m \u001b[0mnew_method\u001b[0m\u001b[0;34m\u001b[0m\u001b[0;34m\u001b[0m\u001b[0m\n",
      "\u001b[0;32m~/opt/anaconda3/lib/python3.8/site-packages/pandas/core/ops/__init__.py\u001b[0m in \u001b[0;36mwrapper\u001b[0;34m(self, other)\u001b[0m\n\u001b[1;32m    363\u001b[0m \u001b[0;34m\u001b[0m\u001b[0m\n\u001b[1;32m    364\u001b[0m         \u001b[0;32mif\u001b[0m \u001b[0misinstance\u001b[0m\u001b[0;34m(\u001b[0m\u001b[0mother\u001b[0m\u001b[0;34m,\u001b[0m \u001b[0mABCSeries\u001b[0m\u001b[0;34m)\u001b[0m \u001b[0;32mand\u001b[0m \u001b[0;32mnot\u001b[0m \u001b[0mself\u001b[0m\u001b[0;34m.\u001b[0m\u001b[0m_indexed_same\u001b[0m\u001b[0;34m(\u001b[0m\u001b[0mother\u001b[0m\u001b[0;34m)\u001b[0m\u001b[0;34m:\u001b[0m\u001b[0;34m\u001b[0m\u001b[0;34m\u001b[0m\u001b[0m\n\u001b[0;32m--> 365\u001b[0;31m             \u001b[0;32mraise\u001b[0m \u001b[0mValueError\u001b[0m\u001b[0;34m(\u001b[0m\u001b[0;34m\"Can only compare identically-labeled Series objects\"\u001b[0m\u001b[0;34m)\u001b[0m\u001b[0;34m\u001b[0m\u001b[0;34m\u001b[0m\u001b[0m\n\u001b[0m\u001b[1;32m    366\u001b[0m \u001b[0;34m\u001b[0m\u001b[0m\n\u001b[1;32m    367\u001b[0m         \u001b[0mlvalues\u001b[0m \u001b[0;34m=\u001b[0m \u001b[0mextract_array\u001b[0m\u001b[0;34m(\u001b[0m\u001b[0mself\u001b[0m\u001b[0;34m,\u001b[0m \u001b[0mextract_numpy\u001b[0m\u001b[0;34m=\u001b[0m\u001b[0;32mTrue\u001b[0m\u001b[0;34m)\u001b[0m\u001b[0;34m\u001b[0m\u001b[0;34m\u001b[0m\u001b[0m\n",
      "\u001b[0;31mValueError\u001b[0m: Can only compare identically-labeled Series objects"
     ]
    }
   ],
   "source": [
    "#df1['pricesMatch?'] = np.where(df1['Price1'] == df2['Price2'], 'True', 'False')\n",
    "\n",
    "df['poverty'] = np.where(poverty['country_code'] == df['country_code'] and df['year'] == poverty['year'], poverty['poverty_percentage'])"
   ]
  },
  {
   "cell_type": "code",
   "execution_count": null,
   "metadata": {},
   "outputs": [],
   "source": []
  }
 ],
 "metadata": {
  "kernelspec": {
   "display_name": "Python 3",
   "language": "python",
   "name": "python3"
  },
  "language_info": {
   "codemirror_mode": {
    "name": "ipython",
    "version": 3
   },
   "file_extension": ".py",
   "mimetype": "text/x-python",
   "name": "python",
   "nbconvert_exporter": "python",
   "pygments_lexer": "ipython3",
   "version": "3.8.5"
  }
 },
 "nbformat": 4,
 "nbformat_minor": 4
}
