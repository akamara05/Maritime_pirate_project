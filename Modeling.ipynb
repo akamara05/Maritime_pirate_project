{
 "cells": [
  {
   "cell_type": "code",
   "execution_count": 1,
   "id": "a856b380",
   "metadata": {},
   "outputs": [],
   "source": [
    "import numpy as np\n",
    "import pandas as pd"
   ]
  },
  {
   "cell_type": "code",
   "execution_count": 2,
   "id": "4dc31140",
   "metadata": {},
   "outputs": [],
   "source": [
    "df = pd.read_csv('./datasets/modeling.csv', index_col=[0])\n",
    "math = pd.read_csv('./datasets/math.csv', index_col=[0])\n",
    "reading = pd.read_csv('./datasets/reading.csv', index_col=[0])\n",
    "sea_law = pd.read_csv('./datasets/sea_law_adoption.csv', index_col=[0])"
   ]
  },
  {
   "cell_type": "code",
   "execution_count": 3,
   "id": "da7820ba",
   "metadata": {},
   "outputs": [],
   "source": [
    "attacks = df.groupby('country_code').size().to_frame()\n",
    "attacks.rename(columns = {0:'attacks'}, inplace = True)"
   ]
  },
  {
   "cell_type": "code",
   "execution_count": 4,
   "id": "f66f636f",
   "metadata": {},
   "outputs": [],
   "source": [
    "df = df[['year', 'navarea_i','navarea_ii','navarea_iii','navarea_iv','navarea_ix','navarea_v',\\\n",
    "         'navarea_vi','navarea_vii','navarea_viii','navarea_x','navarea_xi','navarea_xii',\\\n",
    "         'navarea_xiii','navarea_xiv','navarea_xv','navarea_xvi','country_code','join_key',\\\n",
    "         'poverty_percentage']]"
   ]
  },
  {
   "cell_type": "code",
   "execution_count": 5,
   "id": "2fb465dc",
   "metadata": {},
   "outputs": [],
   "source": [
    "df = df.merge(attacks, on='country_code', how='left')\n",
    "df = df.merge(math, on='join_key', how='left')\n",
    "df = df.merge(reading, on='join_key', how='left')\n",
    "df = df.merge(sea_law, on='country_code', how='left')"
   ]
  },
  {
   "cell_type": "code",
   "execution_count": 6,
   "id": "68484802",
   "metadata": {},
   "outputs": [
    {
     "name": "stdout",
     "output_type": "stream",
     "text": [
      "year\n",
      "navarea_i\n",
      "navarea_ii\n",
      "navarea_iii\n",
      "navarea_iv\n",
      "navarea_ix\n",
      "navarea_v\n",
      "navarea_vi\n",
      "navarea_vii\n",
      "navarea_viii\n",
      "navarea_x\n",
      "navarea_xi\n",
      "navarea_xii\n",
      "navarea_xiii\n",
      "navarea_xiv\n",
      "navarea_xv\n",
      "navarea_xvi\n",
      "country_code\n",
      "join_key\n",
      "poverty_percentage\n",
      "attacks\n",
      "math_benchmark_percent\n",
      "reading_benchmark_percent\n",
      "sea_law_adoption\n"
     ]
    }
   ],
   "source": [
    "for col in df.columns:\n",
    "    print(col)"
   ]
  },
  {
   "cell_type": "code",
   "execution_count": 7,
   "id": "641dfe34",
   "metadata": {},
   "outputs": [
    {
     "data": {
      "text/html": [
       "<div>\n",
       "<style scoped>\n",
       "    .dataframe tbody tr th:only-of-type {\n",
       "        vertical-align: middle;\n",
       "    }\n",
       "\n",
       "    .dataframe tbody tr th {\n",
       "        vertical-align: top;\n",
       "    }\n",
       "\n",
       "    .dataframe thead th {\n",
       "        text-align: right;\n",
       "    }\n",
       "</style>\n",
       "<table border=\"1\" class=\"dataframe\">\n",
       "  <thead>\n",
       "    <tr style=\"text-align: right;\">\n",
       "      <th></th>\n",
       "      <th>country_code</th>\n",
       "      <th>sea_law_adoption</th>\n",
       "    </tr>\n",
       "  </thead>\n",
       "  <tbody>\n",
       "    <tr>\n",
       "      <th>18919</th>\n",
       "      <td>31</td>\n",
       "      <td>80.0</td>\n",
       "    </tr>\n",
       "    <tr>\n",
       "      <th>18920</th>\n",
       "      <td>32</td>\n",
       "      <td>100.0</td>\n",
       "    </tr>\n",
       "    <tr>\n",
       "      <th>18921</th>\n",
       "      <td>40</td>\n",
       "      <td>95.0</td>\n",
       "    </tr>\n",
       "    <tr>\n",
       "      <th>18922</th>\n",
       "      <td>50</td>\n",
       "      <td>90.0</td>\n",
       "    </tr>\n",
       "    <tr>\n",
       "      <th>18923</th>\n",
       "      <td>84</td>\n",
       "      <td>67.0</td>\n",
       "    </tr>\n",
       "    <tr>\n",
       "      <th>...</th>\n",
       "      <td>...</td>\n",
       "      <td>...</td>\n",
       "    </tr>\n",
       "    <tr>\n",
       "      <th>19004</th>\n",
       "      <td>705</td>\n",
       "      <td>100.0</td>\n",
       "    </tr>\n",
       "    <tr>\n",
       "      <th>19005</th>\n",
       "      <td>728</td>\n",
       "      <td>0.0</td>\n",
       "    </tr>\n",
       "    <tr>\n",
       "      <th>19006</th>\n",
       "      <td>740</td>\n",
       "      <td>67.0</td>\n",
       "    </tr>\n",
       "    <tr>\n",
       "      <th>19007</th>\n",
       "      <td>756</td>\n",
       "      <td>67.0</td>\n",
       "    </tr>\n",
       "    <tr>\n",
       "      <th>19008</th>\n",
       "      <td>826</td>\n",
       "      <td>100.0</td>\n",
       "    </tr>\n",
       "  </tbody>\n",
       "</table>\n",
       "<p>90 rows × 2 columns</p>\n",
       "</div>"
      ],
      "text/plain": [
       "       country_code  sea_law_adoption\n",
       "18919            31              80.0\n",
       "18920            32             100.0\n",
       "18921            40              95.0\n",
       "18922            50              90.0\n",
       "18923            84              67.0\n",
       "...             ...               ...\n",
       "19004           705             100.0\n",
       "19005           728               0.0\n",
       "19006           740              67.0\n",
       "19007           756              67.0\n",
       "19008           826             100.0\n",
       "\n",
       "[90 rows x 2 columns]"
      ]
     },
     "execution_count": 7,
     "metadata": {},
     "output_type": "execute_result"
    }
   ],
   "source": [
    "sea_law"
   ]
  },
  {
   "cell_type": "code",
   "execution_count": null,
   "id": "52c9c383",
   "metadata": {},
   "outputs": [],
   "source": []
  }
 ],
 "metadata": {
  "kernelspec": {
   "display_name": "Python 3 (ipykernel)",
   "language": "python",
   "name": "python3"
  },
  "language_info": {
   "codemirror_mode": {
    "name": "ipython",
    "version": 3
   },
   "file_extension": ".py",
   "mimetype": "text/x-python",
   "name": "python",
   "nbconvert_exporter": "python",
   "pygments_lexer": "ipython3",
   "version": "3.8.10"
  }
 },
 "nbformat": 4,
 "nbformat_minor": 5
}
